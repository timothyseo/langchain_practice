{
 "cells": [
  {
   "cell_type": "markdown",
   "metadata": {},
   "source": [
    "## RAG의 문서 검색기, Retriever    \n",
    "RAG에 활용할 문서를 저장하고 시스템에 결합 가능한 형태로 가공하는 단계를 거친 후 사용자의 질문과 근거 문서를 잘 연결할 지의 단계   \n",
    "RAG기반에서 아주 중요한 단계      \n",
    "    - 사용자의 질문을 어떻게 해석할것인가 / 사용자 행동 예측         \n",
    "      - 사용자가 저장된 문서의 문장과 유사한 질문을 할 때는 문제없으나 문서에 없는 문장, 즉 문장 유사도로 근거를 찾을 수 없는 표현으로 질문을 할 때는?     \n",
    "    - 답변 근거가 될 문서를 어떻게 얼마나 가져올 것인가          \n",
    "      - RAG은 사용자의 질문과 유사한 청크를 벡터 DB 검색으로 찾는데 유사 청크를 가져올 때 몇 개를 가져올지 정해야 한다.           \n",
    "        - 모든 청크를 가져오면 컨텍스트 윈도우 초과, 어떤 부분을 집중적으로 참고할 지 몰라서 답변 품질 저하 / 유사도 순위 별로 하는게 답변의 품질을 보장하지 못한다. 근거를 포함하도록 하는 것이 좋다.   \n",
    "이런 고려 사항들을 감안한 최적 파라미터 검색 단계 -> Retriever(검색기) "
   ]
  },
  {
   "cell_type": "code",
   "execution_count": null,
   "metadata": {},
   "outputs": [
    {
     "name": "stdout",
     "output_type": "stream",
     "text": [
      "5개 문서 처리 완료\n",
      "10개 문서 처리 완료\n",
      "15개 문서 처리 완료\n",
      "20개 문서 처리 완료\n",
      "25개 문서 처리 완료\n",
      "30개 문서 처리 완료\n",
      "35개 문서 처리 완료\n",
      "40개 문서 처리 완료\n",
      "45개 문서 처리 완료\n",
      "50개 문서 처리 완료\n",
      "55개 문서 처리 완료\n"
     ]
    },
    {
     "data": {
      "text/plain": [
       "[Document(id='a4a9bdf6-46fe-4da4-a5b7-228f0229cd5c', metadata={'page': 6, 'page_label': '7', 'source': './data/대한민국헌법(헌법)(제00010호)(19880225).pdf'}, page_content='제70조 대통령의 임기는 5년으로 하며, 중임할 수 없다.\\n \\n제71조 대통령이 궐위되거나 사고로 인하여 직무를 수행할 수 없을 때에는 국무총리, 법률이 정한 국무위원의 순서로\\n그 권한을 대행한다.\\n \\n제72조 대통령은 필요하다고 인정할 때에는 외교ㆍ국방ㆍ통일 기타 국가안위에 관한 중요정책을 국민투표에 붙일 수\\n있다.\\n \\n제73조 대통령은 조약을 체결ㆍ비준하고, 외교사절을 신임ㆍ접수 또는 파견하며, 선전포고와 강화를 한다.\\n \\n제74조 ①대통령은 헌법과 법률이 정하는 바에 의하여 국군을 통수한다.\\n②국군의 조직과 편성은 법률로 정한다.\\n \\n제75조 대통령은 법률에서 구체적으로 범위를 정하여 위임받은 사항과 법률을 집행하기 위하여 필요한 사항에 관하여\\n대통령령을 발할 수 있다.\\n \\n제76조 ①대통령은 내우ㆍ외환ㆍ천재ㆍ지변 또는 중대한 재정ㆍ경제상의 위기에 있어서 국가의 안전보장 또는 공공의'),\n",
       " Document(id='496b7bbb-2169-4d84-ab89-9fa8a74b1f3c', metadata={'page': 11, 'page_label': '12', 'source': './data/대한민국헌법(헌법)(제00010호)(19880225).pdf'}, page_content='제123조 ①국가는 농업 및 어업을 보호ㆍ육성하기 위하여 농ㆍ어촌종합개발과 그 지원등 필요한 계획을 수립ㆍ시행하\\n여야 한다.\\n②국가는 지역간의 균형있는 발전을 위하여 지역경제를 육성할 의무를 진다.\\n③국가는 중소기업을 보호ㆍ육성하여야 한다.\\n④국가는 농수산물의 수급균형과 유통구조의 개선에 노력하여 가격안정을 도모함으로써 농ㆍ어민의 이익을 보호\\n한다.'),\n",
       " Document(id='7537bd8a-880f-4521-9ef6-5e8a44f0d6ce', metadata={'page': 6, 'page_label': '7', 'source': './data/대한민국헌법(헌법)(제00010호)(19880225).pdf'}, page_content='②제1항의 선거에 있어서 최고득표자가 2인 이상인 때에는 국회의 재적의원 과반수가 출석한 공개회의에서 다수표\\n를 얻은 자를 당선자로 한다.\\n③대통령후보자가 1인일 때에는 그 득표수가 선거권자 총수의 3분의 1 이상이 아니면 대통령으로 당선될 수 없다.\\n④대통령으로 선거될 수 있는 자는 국회의원의 피선거권이 있고 선거일 현재 40세에 달하여야 한다.\\n⑤대통령의 선거에 관한 사항은 법률로 정한다.\\n \\n제68조 ①대통령의 임기가 만료되는 때에는 임기만료 70일 내지 40일 전에 후임자를 선거한다.\\n②대통령이 궐위된 때 또는 대통령 당선자가 사망하거나 판결 기타의 사유로 그 자격을 상실한 때에는 60일 이내에\\n후임자를 선거한다.\\n \\n제69조 대통령은 취임에 즈음하여 다음의 선서를 한다.\\n“나는 헌법을 준수하고 국가를 보위하며 조국의 평화적 통일과 국민의 자유와 복리의 증진 및 민족문화의 창달에\\n노력하여 대통령으로서의 직책을 성실히 수행할 것을 국민 앞에 엄숙히 선서합니다.”'),\n",
       " Document(id='17c0abe8-f65d-45de-9db7-ebee083cd147', metadata={'page': 11, 'page_label': '12', 'source': './data/대한민국헌법(헌법)(제00010호)(19880225).pdf'}, page_content='지하며, 경제주체간의 조화를 통한 경제의 민주화를 위하여 경제에 관한 규제와 조정을 할 수 있다.\\n \\n제120조 ①광물 기타 중요한 지하자원ㆍ수산자원ㆍ수력과 경제상 이용할 수 있는 자연력은 법률이 정하는 바에 의하\\n여 일정한 기간 그 채취ㆍ개발 또는 이용을 특허할 수 있다.\\n②국토와 자원은 국가의 보호를 받으며, 국가는 그 균형있는 개발과 이용을 위하여 필요한 계획을 수립한다.\\n \\n제121조 ①국가는 농지에 관하여 경자유전의 원칙이 달성될 수 있도록 노력하여야 하며, 농지의 소작제도는 금지된다.\\n②농업생산성의 제고와 농지의 합리적인 이용을 위하거나 불가피한 사정으로 발생하는 농지의 임대차와 위탁경영\\n은 법률이 정하는 바에 의하여 인정된다.\\n \\n제122조 국가는 국민 모두의 생산 및 생활의 기반이 되는 국토의 효율적이고 균형있는 이용ㆍ개발과 보전을 위하여 법\\n률이 정하는 바에 의하여 그에 관한 필요한 제한과 의무를 과할 수 있다.')]"
      ]
     },
     "execution_count": 1,
     "metadata": {},
     "output_type": "execute_result"
    }
   ],
   "source": [
    "# 벡터 DB 기반의 Retriever \n",
    "# 가장 기초 형태\n",
    "# 벡터 DB는 문장 간 임베딩 유사도 계산 기능이 있어 랭체인 결합 없이도 검색 기능을 구축할 수 있으나 랭체인의 Retriever 모듈로 더 쉽고 세밀한 검색 기능을 만들 수 있다. \n",
    "\n",
    "from langchain.document_loaders import PyPDFLoader \n",
    "from langchain_text_splitters import RecursiveCharacterTextSplitter \n",
    "from langchain_google_genai import GoogleGenerativeAIEmbeddings\n",
    "from langchain_chroma import Chroma \n",
    "import os \n",
    "\n",
    "api_key = os.environ[\"GEMINI_API_KEY\"]\n",
    "\n",
    "Chroma().delete_collection()\n",
    "\n",
    "# 헌법 PDF 파일 로드\n",
    "loader = PyPDFLoader(\"./data/대한민국헌법(헌법)(제00010호)(19880225).pdf\")\n",
    "pages = loader.load_and_split()\n",
    "\n",
    "# PDF 파일 500자 청크로 분할\n",
    "text_splitter = RecursiveCharacterTextSplitter(chunk_size=500, chunk_overlap=0)\n",
    "docs = text_splitter.split_documents(pages)\n",
    "\n",
    "embedding_model = GoogleGenerativeAIEmbeddings(model=\"models/embedding-001\", google_api_key=api_key)\n",
    "\n",
    "# Chroma DB에 청크들을 벡터 임베딩으로 저장\n",
    "db = Chroma(persist_directory=\"./chroma_korean_law\", embedding_function=embedding_model)\n",
    "\n",
    "# batch_size를 줄여서 데이터 추가 (메모리 절약)\n",
    "batch_size = 5  \n",
    "for i in range(0, len(docs), batch_size):\n",
    "    db.add_documents(docs[i:i + batch_size])\n",
    "    print(f\"{i + batch_size}개 문서 처리 완료\")\n",
    "    \n",
    "# Chroma를 Retriever로 활용\n",
    "retriever = db.as_retriever() # Chroma DB가 Retriever로 변환, 임베딩 유사도로 유사 청크를 찾아냄\n",
    "retriever.invoke(\"국회의원의 의무\")"
   ]
  },
  {
   "cell_type": "code",
   "execution_count": 5,
   "metadata": {},
   "outputs": [
    {
     "name": "stdout",
     "output_type": "stream",
     "text": [
      "[유사청크 1순위]\n",
      "제70조 대통령의 임기는 5년으로 하며, 중임할 수 없다.\n",
      " \n",
      "제71조 대통령이 궐위되거나 사고로 인하여 직무를 수행할 수 없을 때에는 국무총리, 법률이 정한 국무위원의 순서로\n",
      "그 권한을 대행한다.\n",
      " \n",
      "제72조 대통령은 필요하다고 인정할 때에는 외교ㆍ국방ㆍ통일 기타 국가안위에 관한 중요정책을 국민투표에 붙일 수\n",
      "있다.\n",
      " \n",
      "제73조 대통령은 조약을 체결ㆍ비준하고, 외교사절을 신임ㆍ접수 또는 파견하며, 선전포고와 강화를 한다.\n",
      " \n",
      "제74조 ①대통령은 헌법과 법률이 정하는 바에 의하여 국군을 통수한다.\n",
      "②국군의 조직과 편성은 법률로 정한다.\n",
      " \n",
      "제75조 대통령은 법률에서 구체적으로 범위를 정하여 위임받은 사항과 법률을 집행하기 위하여 필요한 사항에 관하여\n",
      "대통령령을 발할 수 있다.\n",
      " \n",
      "제76조 ①대통령은 내우ㆍ외환ㆍ천재ㆍ지변 또는 중대한 재정ㆍ경제상의 위기에 있어서 국가의 안전보장 또는 공공의\n",
      "\n",
      "\n",
      "[점수]\n",
      "0.5362348889185601\n",
      "0.6208246737368712\n"
     ]
    }
   ],
   "source": [
    "# 좀 더 정밀하고 다양한 조정 방법\n",
    "# 유사도 반환 함수 simlarity_search_with_score(), similarity_search_with_relevance_scores()\n",
    "# 질문 - 유사 청크 간 거리와 유사도 점수 출력\n",
    "# simlarity_search_with_score()의 출력값이 낮을 수록 질문과 유사도가 높은것, similarity_search_with_relevance_scores() 출력값이 높을 수록 질문과 유사도가 높다\n",
    "\n",
    "result_score = db.similarity_search_with_score(\"대통령의 의무\")\n",
    "result_r_score = db._similarity_search_with_relevance_scores(\"대통령의 의무\")\n",
    "print(\"[유사청크 1순위]\")\n",
    "print(result_score[0][0].page_content)\n",
    "print(\"\\n\\n[점수]\")\n",
    "print(result_score[0][1])\n",
    "print(result_r_score[0][1])"
   ]
  },
  {
   "cell_type": "code",
   "execution_count": 7,
   "metadata": {},
   "outputs": [
    {
     "data": {
      "text/plain": [
       "[Document(id='a4a9bdf6-46fe-4da4-a5b7-228f0229cd5c', metadata={'page': 6, 'page_label': '7', 'source': './data/대한민국헌법(헌법)(제00010호)(19880225).pdf'}, page_content='제70조 대통령의 임기는 5년으로 하며, 중임할 수 없다.\\n \\n제71조 대통령이 궐위되거나 사고로 인하여 직무를 수행할 수 없을 때에는 국무총리, 법률이 정한 국무위원의 순서로\\n그 권한을 대행한다.\\n \\n제72조 대통령은 필요하다고 인정할 때에는 외교ㆍ국방ㆍ통일 기타 국가안위에 관한 중요정책을 국민투표에 붙일 수\\n있다.\\n \\n제73조 대통령은 조약을 체결ㆍ비준하고, 외교사절을 신임ㆍ접수 또는 파견하며, 선전포고와 강화를 한다.\\n \\n제74조 ①대통령은 헌법과 법률이 정하는 바에 의하여 국군을 통수한다.\\n②국군의 조직과 편성은 법률로 정한다.\\n \\n제75조 대통령은 법률에서 구체적으로 범위를 정하여 위임받은 사항과 법률을 집행하기 위하여 필요한 사항에 관하여\\n대통령령을 발할 수 있다.\\n \\n제76조 ①대통령은 내우ㆍ외환ㆍ천재ㆍ지변 또는 중대한 재정ㆍ경제상의 위기에 있어서 국가의 안전보장 또는 공공의')]"
      ]
     },
     "execution_count": 7,
     "metadata": {},
     "output_type": "execute_result"
    }
   ],
   "source": [
    "# 검색 결과 개수 조정(search_kwargs)\n",
    "\n",
    "# 유사청크 1개만 반환\n",
    "retriever = db.as_retriever(search_kwargs={\"k\": 1})\n",
    "# retriever.get_relevant_documents(\"대통령의 의무\")\n",
    "retriever.invoke(\"대통령의 의무\")"
   ]
  },
  {
   "cell_type": "code",
   "execution_count": 8,
   "metadata": {},
   "outputs": [
    {
     "data": {
      "text/plain": [
       "[Document(id='a4a9bdf6-46fe-4da4-a5b7-228f0229cd5c', metadata={'page': 6, 'page_label': '7', 'source': './data/대한민국헌법(헌법)(제00010호)(19880225).pdf'}, page_content='제70조 대통령의 임기는 5년으로 하며, 중임할 수 없다.\\n \\n제71조 대통령이 궐위되거나 사고로 인하여 직무를 수행할 수 없을 때에는 국무총리, 법률이 정한 국무위원의 순서로\\n그 권한을 대행한다.\\n \\n제72조 대통령은 필요하다고 인정할 때에는 외교ㆍ국방ㆍ통일 기타 국가안위에 관한 중요정책을 국민투표에 붙일 수\\n있다.\\n \\n제73조 대통령은 조약을 체결ㆍ비준하고, 외교사절을 신임ㆍ접수 또는 파견하며, 선전포고와 강화를 한다.\\n \\n제74조 ①대통령은 헌법과 법률이 정하는 바에 의하여 국군을 통수한다.\\n②국군의 조직과 편성은 법률로 정한다.\\n \\n제75조 대통령은 법률에서 구체적으로 범위를 정하여 위임받은 사항과 법률을 집행하기 위하여 필요한 사항에 관하여\\n대통령령을 발할 수 있다.\\n \\n제76조 ①대통령은 내우ㆍ외환ㆍ천재ㆍ지변 또는 중대한 재정ㆍ경제상의 위기에 있어서 국가의 안전보장 또는 공공의'),\n",
       " Document(id='496b7bbb-2169-4d84-ab89-9fa8a74b1f3c', metadata={'page': 11, 'page_label': '12', 'source': './data/대한민국헌법(헌법)(제00010호)(19880225).pdf'}, page_content='제123조 ①국가는 농업 및 어업을 보호ㆍ육성하기 위하여 농ㆍ어촌종합개발과 그 지원등 필요한 계획을 수립ㆍ시행하\\n여야 한다.\\n②국가는 지역간의 균형있는 발전을 위하여 지역경제를 육성할 의무를 진다.\\n③국가는 중소기업을 보호ㆍ육성하여야 한다.\\n④국가는 농수산물의 수급균형과 유통구조의 개선에 노력하여 가격안정을 도모함으로써 농ㆍ어민의 이익을 보호\\n한다.'),\n",
       " Document(id='a1cd55b4-841b-401b-9ac9-4de1b4b7c97f', metadata={'page': 1, 'page_label': '2', 'source': './data/대한민국헌법(헌법)(제00010호)(19880225).pdf'}, page_content='제12조 ①모든 국민은 신체의 자유를 가진다. 누구든지 법률에 의하지 아니하고는 체포ㆍ구속ㆍ압수ㆍ수색 또는 심문\\n을 받지 아니하며, 법률과 적법한 절차에 의하지 아니하고는 처벌ㆍ보안처분 또는 강제노역을 받지 아니한다.\\n②모든 국민은 고문을 받지 아니하며, 형사상 자기에게 불리한 진술을 강요당하지 아니한다.\\n③체포ㆍ구속ㆍ압수 또는 수색을 할 때에는 적법한 절차에 따라 검사의 신청에 의하여 법관이 발부한 영장을 제시\\n하여야 한다. 다만, 현행범인인 경우와 장기 3년 이상의 형에 해당하는 죄를 범하고 도피 또는 증거인멸의 염려가\\n있을 때에는 사후에 영장을 청구할 수 있다.\\n④누구든지 체포 또는 구속을 당한 때에는 즉시 변호인의 조력을 받을 권리를 가진다. 다만, 형사피고인이 스스로\\n변호인을 구할 수 없을 때에는 법률이 정하는 바에 의하여 국가가 변호인을 붙인다.\\n⑤누구든지 체포 또는 구속의 이유와 변호인의 조력을 받을 권리가 있음을 고지받지 아니하고는 체포 또는 구속을')]"
      ]
     },
     "execution_count": 8,
     "metadata": {},
     "output_type": "execute_result"
    }
   ],
   "source": [
    "# 검색 방식 변경(MMR 검색 유형)\n",
    "# MMR(Maximal Marginal Relevance) : 문서의 유사성과 다양성을 동시에 고려하는 방법, 질문과 문서와 유사도와 문서 집합 중 가장 유사한 문서와의 유사도\n",
    "# 질문과의 유사도가 높으면서 문서 집합 중 가장 유사한 문서와의 유사도가 가장 낮을 수록 MMR은 높아진다.\n",
    "# MMR = 1 -> 질문과의 유사도가 가장 높은 문서 검색, MMR = 0 -> 문서 집합 중 가장 유사한 문서와의 유사도가 매우 낮은 문서 검색\n",
    "\n",
    "# MMR 검색방식(다양성만을 고려)\n",
    "\n",
    "retriever = db.as_retriever(\n",
    "    search_type=\"mmr\",\n",
    "    search_kwargs= {\"lambda_mult\": 0, \"fetch_k\":10, \"k\":3}\n",
    ")\n",
    "\n",
    "retriever.invoke(\"대통령의 의무\")"
   ]
  },
  {
   "cell_type": "code",
   "execution_count": 9,
   "metadata": {},
   "outputs": [
    {
     "data": {
      "text/plain": [
       "[Document(id='a4a9bdf6-46fe-4da4-a5b7-228f0229cd5c', metadata={'page': 6, 'page_label': '7', 'source': './data/대한민국헌법(헌법)(제00010호)(19880225).pdf'}, page_content='제70조 대통령의 임기는 5년으로 하며, 중임할 수 없다.\\n \\n제71조 대통령이 궐위되거나 사고로 인하여 직무를 수행할 수 없을 때에는 국무총리, 법률이 정한 국무위원의 순서로\\n그 권한을 대행한다.\\n \\n제72조 대통령은 필요하다고 인정할 때에는 외교ㆍ국방ㆍ통일 기타 국가안위에 관한 중요정책을 국민투표에 붙일 수\\n있다.\\n \\n제73조 대통령은 조약을 체결ㆍ비준하고, 외교사절을 신임ㆍ접수 또는 파견하며, 선전포고와 강화를 한다.\\n \\n제74조 ①대통령은 헌법과 법률이 정하는 바에 의하여 국군을 통수한다.\\n②국군의 조직과 편성은 법률로 정한다.\\n \\n제75조 대통령은 법률에서 구체적으로 범위를 정하여 위임받은 사항과 법률을 집행하기 위하여 필요한 사항에 관하여\\n대통령령을 발할 수 있다.\\n \\n제76조 ①대통령은 내우ㆍ외환ㆍ천재ㆍ지변 또는 중대한 재정ㆍ경제상의 위기에 있어서 국가의 안전보장 또는 공공의'),\n",
       " Document(id='496b7bbb-2169-4d84-ab89-9fa8a74b1f3c', metadata={'page': 11, 'page_label': '12', 'source': './data/대한민국헌법(헌법)(제00010호)(19880225).pdf'}, page_content='제123조 ①국가는 농업 및 어업을 보호ㆍ육성하기 위하여 농ㆍ어촌종합개발과 그 지원등 필요한 계획을 수립ㆍ시행하\\n여야 한다.\\n②국가는 지역간의 균형있는 발전을 위하여 지역경제를 육성할 의무를 진다.\\n③국가는 중소기업을 보호ㆍ육성하여야 한다.\\n④국가는 농수산물의 수급균형과 유통구조의 개선에 노력하여 가격안정을 도모함으로써 농ㆍ어민의 이익을 보호\\n한다.'),\n",
       " Document(id='7537bd8a-880f-4521-9ef6-5e8a44f0d6ce', metadata={'page': 6, 'page_label': '7', 'source': './data/대한민국헌법(헌법)(제00010호)(19880225).pdf'}, page_content='②제1항의 선거에 있어서 최고득표자가 2인 이상인 때에는 국회의 재적의원 과반수가 출석한 공개회의에서 다수표\\n를 얻은 자를 당선자로 한다.\\n③대통령후보자가 1인일 때에는 그 득표수가 선거권자 총수의 3분의 1 이상이 아니면 대통령으로 당선될 수 없다.\\n④대통령으로 선거될 수 있는 자는 국회의원의 피선거권이 있고 선거일 현재 40세에 달하여야 한다.\\n⑤대통령의 선거에 관한 사항은 법률로 정한다.\\n \\n제68조 ①대통령의 임기가 만료되는 때에는 임기만료 70일 내지 40일 전에 후임자를 선거한다.\\n②대통령이 궐위된 때 또는 대통령 당선자가 사망하거나 판결 기타의 사유로 그 자격을 상실한 때에는 60일 이내에\\n후임자를 선거한다.\\n \\n제69조 대통령은 취임에 즈음하여 다음의 선서를 한다.\\n“나는 헌법을 준수하고 국가를 보위하며 조국의 평화적 통일과 국민의 자유와 복리의 증진 및 민족문화의 창달에\\n노력하여 대통령으로서의 직책을 성실히 수행할 것을 국민 앞에 엄숙히 선서합니다.”')]"
      ]
     },
     "execution_count": 9,
     "metadata": {},
     "output_type": "execute_result"
    }
   ],
   "source": [
    "# 일반 유사도 검색 방식\n",
    "\n",
    "retriever = db.as_retriever(search_kwargs={\"k\": 3})\n",
    "retriever.invoke(\"대통령의 의무\")"
   ]
  },
  {
   "cell_type": "markdown",
   "metadata": {},
   "source": [
    "MMR방식이 기존 검색 방식 대비 좀 더 다양한 청크를 유사 청크로 검색"
   ]
  },
  {
   "cell_type": "code",
   "execution_count": 10,
   "metadata": {},
   "outputs": [
    {
     "data": {
      "text/plain": [
       "4"
      ]
     },
     "execution_count": 10,
     "metadata": {},
     "output_type": "execute_result"
    }
   ],
   "source": [
    "# 사용자의 쿼리를 재해석해 검색하는 MultiQueryRetriever\n",
    "# 사용자의 질문 내용이 벡터 DB내 청크들과 유사하지 않은 경우 LLM을 활용해 사용자 질문을 여러 버전으로 만들어 벡터 DB내 검색이 원활하게끔 한다.\n",
    "# 즉, 사용자의 질문 문장을 여러개로 조합하여 파생 질문들을 만들어 DB 검색에 활용한다. \n",
    "\n",
    "from langchain.retrievers.multi_query import MultiQueryRetriever\n",
    "from langchain_google_genai import GoogleGenerativeAI \n",
    "\n",
    "# 질문 문장 question으로 저장\n",
    "question = \"대통령의 의무는 무엇이 있나요?\"\n",
    "\n",
    "# 여러 버전의 질문으로 변환하는 역할을 맡을 LLM 선언\n",
    "llm = GoogleGenerativeAI(model=\"gemini-2.0-flash-thinking-exp-01-21\", \n",
    "    api_key=os.environ[\"GEMINI_API_KEY\"], temperature=0)\n",
    "\n",
    "# MultiQueryRetriever에 벡터 DB 기반 Retriever와 LLM 선언\n",
    "retriever_from_llm = MultiQueryRetriever.from_llm(\n",
    "    retriever = db.as_retriever(), llm=llm\n",
    ")\n",
    "\n",
    "# 여러 버전의 문장 생성 결과를 확인하기 위한 로깅 과정\n",
    "import logging \n",
    "logging.basicConfig()\n",
    "logging.getLogger(\"langchain.retriever.multi_query\").setLevel(logging.INFO)\n",
    "\n",
    "#여러 버전 질문 생성 결과와 유사 청크 검색 개수 출력\n",
    "unique_docs = retriever_from_llm.invoke(input=question)\n",
    "len(unique_docs)"
   ]
  },
  {
   "cell_type": "code",
   "execution_count": 11,
   "metadata": {},
   "outputs": [
    {
     "name": "stdout",
     "output_type": "stream",
     "text": [
      "Starting retrieval with question: 대통령의 의무는 무엇이 있나요?\n"
     ]
    },
    {
     "name": "stderr",
     "output_type": "stream",
     "text": [
      "2025-03-06 10:42:29,557 - langchain.retrievers.multi_query - INFO - Generated queries: ['대통령의 책임은 무엇인가?', '대통령은 어떤 역할을 수행하나요?', '국가원수로서 대통령은 무슨 일을 하나요?']\n",
      "INFO:langchain.retrievers.multi_query:Generated queries: ['대통령의 책임은 무엇인가?', '대통령은 어떤 역할을 수행하나요?', '국가원수로서 대통령은 무슨 일을 하나요?']\n"
     ]
    },
    {
     "name": "stdout",
     "output_type": "stream",
     "text": [
      "검색된 문서 개수: 4\n"
     ]
    }
   ],
   "source": [
    "# 로깅을 맨 앞에 설정\n",
    "import logging\n",
    "# 핸들러 설정 및 포맷 정의\n",
    "handler = logging.StreamHandler()\n",
    "handler.setFormatter(logging.Formatter('%(asctime)s - %(name)s - %(levelname)s - %(message)s'))\n",
    "# 로거 가져오기\n",
    "logger = logging.getLogger(\"langchain.retrievers.multi_query\")\n",
    "# 핸들러 추가 및 레벨 설정\n",
    "logger.addHandler(handler)\n",
    "logger.setLevel(logging.DEBUG)  # DEBUG로 설정하여 더 많은 정보 출력\n",
    "\n",
    "from langchain.retrievers.multi_query import MultiQueryRetriever\n",
    "from langchain_google_genai import GoogleGenerativeAI\n",
    "import os\n",
    "\n",
    "# 질문 문장 question으로 저장\n",
    "question = \"대통령의 의무는 무엇이 있나요?\"\n",
    "\n",
    "# 여러 버전의 질문으로 변환하는 역할을 맡을 LLM 선언\n",
    "llm = GoogleGenerativeAI(model=\"gemini-2.0-flash-thinking-exp-01-21\", \n",
    "    api_key=os.environ[\"GEMINI_API_KEY\"], temperature=0)\n",
    "\n",
    "# MultiQueryRetriever에 벡터 DB 기반 Retriever와 LLM 선언\n",
    "retriever_from_llm = MultiQueryRetriever.from_llm(\n",
    "    retriever=db.as_retriever(), llm=llm\n",
    ")\n",
    "\n",
    "# 생성된 질문 확인을 위해 직접 print 추가\n",
    "print(\"Starting retrieval with question:\", question)\n",
    "\n",
    "# 여러 버전 질문 생성 결과와 유사 청크 검색 개수 출력\n",
    "unique_docs = retriever_from_llm.invoke(input=question)\n",
    "print(f\"검색된 문서 개수: {len(unique_docs)}\")\n",
    "\n",
    "# 생성된 질문들을 확인하기 위한 코드 추가 (MultiQueryRetriever 내부 구현에 따라 달라질 수 있음)\n",
    "# 가능하다면 retriever_from_llm 객체에서 생성된 질문들을 직접 접근\n",
    "if hasattr(retriever_from_llm, \"generated_queries\"):\n",
    "    print(\"\\n생성된 질문들:\")\n",
    "    for i, query in enumerate(retriever_from_llm.generated_queries):\n",
    "        print(f\"{i+1}. {query}\")"
   ]
  },
  {
   "cell_type": "code",
   "execution_count": 2,
   "metadata": {},
   "outputs": [],
   "source": [
    "# 문서를 여러 벡터로 재해석하는 MultiVectorRetriever\n",
    "# 문서의 벡터를 재가공하여 검색 품질을 향상시킨다.\n",
    "# 상위문서검색기(Parent Document Retriever) : 알맞은 청크 길이를 조절하는 역할\n",
    "# 상위 청크 기준으로 긴 길이의 청크를 만들고 하위 청크 기준으로 짧은 길이의 청크를 만든다. 예) 상위청크 : 서시, 하위청크 : 서시의 각 행\n",
    "# 검색 때는 하위 청크를 검색하고, LLM에게 컨텍스트를 전달할 때는 상위 청크를 전달한다. \n",
    "\n",
    "# Chroma DB에 문서 저장\n",
    "\n",
    "from langchain.retrievers.multi_vector import MultiVectorRetriever\n",
    "from langchain.storage import InMemoryByteStore\n",
    "from langchain_chroma import Chroma \n",
    "from langchain_text_splitters import RecursiveCharacterTextSplitter\n",
    "from langchain.document_loaders import PyPDFLoader \n",
    "\n",
    "loader = PyPDFLoader(\"./data/대한민국헌법(헌법)(제00010호)(19880225).pdf\")\n",
    "docs = loader.load()\n",
    "text_splitter = RecursiveCharacterTextSplitter(chunk_size=2000)\n",
    "docs = text_splitter.split_documents(docs)"
   ]
  },
  {
   "cell_type": "code",
   "execution_count": 3,
   "metadata": {},
   "outputs": [
    {
     "name": "stderr",
     "output_type": "stream",
     "text": [
      "C:\\Users\\gram\\AppData\\Local\\Temp\\ipykernel_7524\\844048630.py:8: LangChainDeprecationWarning: The class `HuggingFaceEmbeddings` was deprecated in LangChain 0.2.2 and will be removed in 1.0. An updated version of the class exists in the :class:`~langchain-huggingface package and should be used instead. To use it run `pip install -U :class:`~langchain-huggingface` and import as `from :class:`~langchain_huggingface import HuggingFaceEmbeddings``.\n",
      "  embedding = HuggingFaceEmbeddings(\n",
      "c:\\Users\\gram\\AppData\\Local\\Programs\\Python\\Python311\\Lib\\site-packages\\transformers\\tokenization_utils_base.py:1601: FutureWarning: `clean_up_tokenization_spaces` was not set. It will be set to `True` by default. This behavior will be depracted in transformers v4.45, and will be then set to `False` by default. For more details check this issue: https://github.com/huggingface/transformers/issues/31884\n",
      "  warnings.warn(\n"
     ]
    }
   ],
   "source": [
    "# Multi Vector를 만들기 위한 작업\n",
    "\n",
    "from langchain_community.embeddings import HuggingFaceEmbeddings # from langchain_huggingface import HuggingFaceEmbeddings\n",
    "\n",
    "model_name = \"jhgan/ko-sbert-nli\"\n",
    "model_kwargs = {\"device\": \"cpu\"}\n",
    "encode_kwargs = {\"normalize_embeddings\":True}\n",
    "embedding = HuggingFaceEmbeddings(\n",
    "    model_name=model_name,\n",
    "    model_kwargs=model_kwargs,\n",
    "    encode_kwargs=encode_kwargs\n",
    ")\n",
    "\n",
    "vectorstore = Chroma(collection_name=\"full_documents\", embedding_function=embedding)\n",
    "\n",
    "# 상위 문서 저장 위한 레이어 선언\n",
    "store = InMemoryByteStore()\n",
    "id_key = \"doc_id\"\n",
    "\n",
    "# 상위 문서와 하위 문서를 연결할 키 값으로 doc_id 사용\n",
    "retriever = MultiVectorRetriever(\n",
    "    vectorstore=vectorstore,\n",
    "    byte_store=store,\n",
    "    id_key=id_key\n",
    ")\n",
    "\n",
    "# 문서 id로 고유한 값을 지정하기 위해 uuid 라이브러리 호출\n",
    "import uuid \n",
    "doc_ids = [str(uuid.uuid4()) for _ in docs]"
   ]
  },
  {
   "cell_type": "code",
   "execution_count": 4,
   "metadata": {},
   "outputs": [
    {
     "ename": "",
     "evalue": "",
     "output_type": "error",
     "traceback": [
      "\u001b[1;31m현재 셀 또는 이전 셀에서 코드를 실행하는 동안 Kernel이 충돌했습니다. \n",
      "\u001b[1;31m셀의 코드를 검토하여 가능한 오류 원인을 식별하세요. \n",
      "\u001b[1;31m자세한 내용을 보려면 <a href='https://aka.ms/vscodeJupyterKernelCrash'>여기</a>를 클릭하세요. \n",
      "\u001b[1;31m자세한 내용은 Jupyter <a href='command:jupyter.viewOutput'>로그</a>를 참조하세요."
     ]
    }
   ],
   "source": [
    "# 하위 청크로 쪼개기 위한 child_text_splitter 지정\n",
    "child_text_splitter = RecursiveCharacterTextSplitter(chunk_size=400)\n",
    "\n",
    "# 상위 청크들을 순회하며 하위 청크로 분할한 후 상위 청크 id 상속\n",
    "sub_docs = []\n",
    "for i, doc in enumerate(docs):\n",
    "    _id = doc_ids[i]\n",
    "    _sub_docs = child_text_splitter.split_documents([doc])\n",
    "    for _doc in _sub_docs:\n",
    "        _doc.metadata[id_key] = _id\n",
    "    sub_docs.extend(_sub_docs)\n",
    "\n",
    "#vectorstore에 하위 청크 추가\n",
    "retriever.vectorstore.add_documents(sub_docs)\n",
    "\n",
    "#docstore에 상위청크 저장할 때, doc_ids 지정\n",
    "retriever.docstore.mset(list(zip(doc_ids, docs)))"
   ]
  },
  {
   "cell_type": "code",
   "execution_count": null,
   "metadata": {},
   "outputs": [],
   "source": [
    "# Vectorstore alone retrieves the small chunks\n",
    "print(\"[하위 청크] \\n\")\n",
    "print(retriever.vectorstore.similarity_search(\"국민의 권리\")[0].page_content)\n",
    "print(\"-\"*50)\n",
    "print(\"[상위 청크] \\n\")\n",
    "print(retriever.invoke(\"국민의 권리\")[0].page_content)"
   ]
  },
  {
   "cell_type": "code",
   "execution_count": 1,
   "metadata": {},
   "outputs": [
    {
     "name": "stderr",
     "output_type": "stream",
     "text": [
      "C:\\Users\\gram\\AppData\\Local\\Temp\\ipykernel_17324\\1164234144.py:19: LangChainDeprecationWarning: The class `HuggingFaceEmbeddings` was deprecated in LangChain 0.2.2 and will be removed in 1.0. An updated version of the class exists in the :class:`~langchain-huggingface package and should be used instead. To use it run `pip install -U :class:`~langchain-huggingface` and import as `from :class:`~langchain_huggingface import HuggingFaceEmbeddings``.\n",
      "  embedding = HuggingFaceEmbeddings(\n",
      "c:\\Users\\gram\\AppData\\Local\\Programs\\Python\\Python311\\Lib\\site-packages\\transformers\\tokenization_utils_base.py:1601: FutureWarning: `clean_up_tokenization_spaces` was not set. It will be set to `True` by default. This behavior will be depracted in transformers v4.45, and will be then set to `False` by default. For more details check this issue: https://github.com/huggingface/transformers/issues/31884\n",
      "  warnings.warn(\n"
     ]
    },
    {
     "ename": "",
     "evalue": "",
     "output_type": "error",
     "traceback": [
      "\u001b[1;31m현재 셀 또는 이전 셀에서 코드를 실행하는 동안 Kernel이 충돌했습니다. \n",
      "\u001b[1;31m셀의 코드를 검토하여 가능한 오류 원인을 식별하세요. \n",
      "\u001b[1;31m자세한 내용을 보려면 <a href='https://aka.ms/vscodeJupyterKernelCrash'>여기</a>를 클릭하세요. \n",
      "\u001b[1;31m자세한 내용은 Jupyter <a href='command:jupyter.viewOutput'>로그</a>를 참조하세요."
     ]
    }
   ],
   "source": [
    "# 컨텍스트 재정렬, Long-Context Reorder\n",
    "# Long-Context Reorder 없이 유사 문서 출력\n",
    "\n",
    "\n",
    "from langchain.chains import LLMChain, StuffDocumentsChain\n",
    "from langchain_chroma import Chroma\n",
    "from langchain.document_transformers import (\n",
    "    LongContextReorder,\n",
    ")\n",
    "from langchain.embeddings import HuggingFaceEmbeddings\n",
    "from langchain.prompts import PromptTemplate\n",
    "\n",
    "Chroma().delete_collection()\n",
    "\n",
    "# 한글 임베딩 모델 선언\n",
    "model_name = \"jhgan/ko-sbert-nli\"\n",
    "model_kwargs = {'device': 'cpu'}\n",
    "encode_kwargs = {'normalize_embeddings': True}\n",
    "embedding = HuggingFaceEmbeddings(\n",
    "    model_name=model_name,\n",
    "    model_kwargs=model_kwargs,\n",
    "    encode_kwargs=encode_kwargs\n",
    ")\n",
    "\n",
    "texts = [\n",
    "    \"바스켓볼은 훌륭한 스포츠입니다.\",\n",
    "    \"플라이 미 투 더 문은 제가 가장 좋아하는 노래 중 하나입니다.\",\n",
    "    \"셀틱스는 제가 가장 좋아하는 팀입니다.\",\n",
    "    \"이것은 보스턴 셀틱스에 관한 문서입니다.\"\n",
    "    \"저는 단순히 영화 보러 가는 것을 좋아합니다\",\n",
    "    \"보스턴 셀틱스가 20점차로 이겼어요\",\n",
    "    \"이것은 그냥 임의의 텍스트입니다.\",\n",
    "    \"엘든 링은 지난 15 년 동안 최고의 게임 중 하나입니다.\",\n",
    "    \"L. 코넷은 최고의 셀틱스 선수 중 한 명입니다.\",\n",
    "    \"래리 버드는 상징적인 NBA 선수였습니다.\",\n",
    "]\n",
    "# Chroma Retriever 선언(10개의 유사 문서 출력)\n",
    "retriever = Chroma.from_texts(texts, embedding=embedding).as_retriever(\n",
    "    search_kwargs={\"k\": 10}\n",
    ")\n",
    "query = \"셀틱에 대해 설명해줘\"\n",
    "\n",
    "# 유사도 기준으로 검색 결과 출력\n",
    "docs = retriever.invoke(query)\n",
    "docs"
   ]
  },
  {
   "cell_type": "code",
   "execution_count": null,
   "metadata": {},
   "outputs": [],
   "source": [
    "# Long-Context Reorder 활용하여 유사 문서 출력\n",
    "\n",
    "#LongContextReorder 선언\n",
    "reordering = LongContextReorder()\n",
    "\n",
    "#검색된 유사문서 중 관련도가 높은 문서를 맨앞과 맨뒤에 재정배치\n",
    "reordered_docs = reordering.transform_documents(docs)\n",
    "reordered_docs"
   ]
  },
  {
   "cell_type": "code",
   "execution_count": null,
   "metadata": {},
   "outputs": [],
   "source": []
  }
 ],
 "metadata": {
  "kernelspec": {
   "display_name": "Python 3",
   "language": "python",
   "name": "python3"
  },
  "language_info": {
   "codemirror_mode": {
    "name": "ipython",
    "version": 3
   },
   "file_extension": ".py",
   "mimetype": "text/x-python",
   "name": "python",
   "nbconvert_exporter": "python",
   "pygments_lexer": "ipython3",
   "version": "3.11.5"
  }
 },
 "nbformat": 4,
 "nbformat_minor": 2
}
