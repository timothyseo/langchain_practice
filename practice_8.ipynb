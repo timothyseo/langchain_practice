{
 "cells": [
  {
   "cell_type": "markdown",
   "metadata": {},
   "source": [
    "## 문서 벡터 저장소, Vector Stores  \n",
    "벡터 DB는 관계형 데이터베이스가 아닌, 비정형 데이터를 저장하는데 특화된 DB다.    \n",
    "RDB가 문자와 숫자 정보를 특성에 따라 열과 행의 테이블 형태로 저장되나 비정형 데이터는 데이터마다 의미가 완전 달라 테이블 형태로 적재되지 않는다.   \n",
    "따라서 데이터 조회 방식도 달라서 쿼리를 기반으로 정형 데이터의 정확한 행과 열을 추출하여 정보 조회하는것과 달리 벡터 정보들 중 유사도를 기반으로 가장 비슷한 것을 찾는다.    \n",
    "ANN(Approximate Nearest Neighbor) 알고리즘을 바탕으로 임베딩 벡터 간 유사도를 계산한다.    \n",
    "    - HNSW(Hierarchical Navigable Small World : 계층적 탐색 구조), SPTAG(Space Partition Tree And Graph : 트리+그래프 탐색 구조) 방식    \n",
    "벡터 DB 종류\n",
    "    - 순수 벡터 DB : 무료 오픈 소스 Chroma, Weaviate, Qdrant 등, 유료 클로즈드 소스 Pinecone, ziliz / 임베딩 벡터 인덱싱 기술에 최적화 / SQL기반 기존 DB와 결합 어려움 / CRUD가 부실하여 유지보수 어려움    \n",
    "    - 텍스트 전용 DB : Elasticsearch, Opensearch, Apache Lucene, Solr / 다국어 검색 지원, 커스터마이징 가능 토크나이저, 불용어 목록, n-gram 등 기능이 많고 검색 소프트웨어와 결합됨 / 유사도 계산 최적화 안됨 / 벡터 검색을 위한 추가적인 모듈 결합 필요    \n",
    "    - 벡터 라이브러리 : FAISS(Facebook AI Similarity Search), Annoy, Hnswlib / 벡터 유사도 계산을 위한 라이브러리 / DB로의 기능은 부실한편    \n",
    "    - 벡터 기능 추가된 NoSQL : MongoDB, neo4j, redis / 비정형, 반정형 데이터의 저장과 검색을 용이하게 설계 / 유사도 계산 추가    \n",
    "    - 벡터 저장 및 검색 가능한 SQL DB : PostgreDB, Clickhouse, Kinetica / SQL쿼리 기반으로 데이터 조회 가능 / 벡터 저장 및 데이터 조회 최적화 안됨 / 벡터 검색을 위한 ANN 알고리즘 최적화 필요   \n",
    "Chroma DB\n",
    "    - RAG 구축 시 가장 많이 활용되는 오픈 소스 벡터 DB\n",
    "    - 임베딩, 메타데이터 저장, 문서 및 질문 임베딩, 임베딩 검색 가능   \n",
    "    - 장점 : 다른 DB 대비 단순한 사용성, 유사도 순위 제공, 빠른 속도      "
   ]
  },
  {
   "cell_type": "code",
   "execution_count": null,
   "metadata": {},
   "outputs": [
    {
     "name": "stderr",
     "output_type": "stream",
     "text": [
      "C:\\Users\\gram\\AppData\\Local\\Temp\\ipykernel_12208\\3545496155.py:22: LangChainDeprecationWarning: The class `Chroma` was deprecated in LangChain 0.2.9 and will be removed in 1.0. An updated version of the class exists in the :class:`~langchain-chroma package and should be used instead. To use it run `pip install -U :class:`~langchain-chroma` and import as `from :class:`~langchain_chroma import Chroma``.\n",
      "  db = Chroma(persist_directory=\"./chroma_db\", embedding_function=embedding_model)\n"
     ]
    },
    {
     "name": "stdout",
     "output_type": "stream",
     "text": [
      "5개 문서 처리 완료\n",
      "10개 문서 처리 완료\n",
      "15개 문서 처리 완료\n",
      "20개 문서 처리 완료\n",
      "25개 문서 처리 완료\n",
      "30개 문서 처리 완료\n",
      "35개 문서 처리 완료\n",
      "40개 문서 처리 완료\n",
      "45개 문서 처리 완료\n",
      "50개 문서 처리 완료\n",
      "55개 문서 처리 완료\n"
     ]
    }
   ],
   "source": [
    "# Chroma DB 문서 저장 및 유사 문서 검색 practice\n",
    "\n",
    "import os \n",
    "from langchain.document_loaders import PyPDFLoader \n",
    "from langchain_text_splitters import RecursiveCharacterTextSplitter \n",
    "from langchain_google_genai import GoogleGenerativeAIEmbeddings\n",
    "from langchain.vectorstores import Chroma\n",
    "\n",
    "api_key = os.environ[\"GEMINI_API_KEY\"]\n",
    "\n",
    "embedding_model = GoogleGenerativeAIEmbeddings(model=\"models/embedding-001\", google_api_key=api_key)\n",
    "\n",
    "loader = PyPDFLoader(\"./data/대한민국헌법(헌법)(제00010호)(19880225).pdf\")\n",
    "pages = loader.load_and_split()\n",
    "\n",
    "text_splitter = RecursiveCharacterTextSplitter(chunk_size=500, chunk_overlap=0)\n",
    "docs = text_splitter.split_documents(pages)\n",
    "\n",
    "# db = Chroma.from_documents(docs, embedding_model, persist_directory=\"./chroma_db\")\n",
    "\n",
    "# ChromaDB 초기화\n",
    "db = Chroma(persist_directory=\"./chroma_db\", embedding_function=embedding_model)\n",
    "\n",
    "# batch_size를 줄여서 데이터 추가 (메모리 절약)\n",
    "batch_size = 5  \n",
    "for i in range(0, len(docs), batch_size):\n",
    "    db.add_documents(docs[i:i + batch_size])\n",
    "    print(f\"{i + batch_size}개 문서 처리 완료\") "
   ]
  },
  {
   "cell_type": "code",
   "execution_count": 1,
   "metadata": {},
   "outputs": [],
   "source": [
    "import shutil\n",
    "shutil.rmtree(\"./chroma_db\", ignore_errors=True)"
   ]
  },
  {
   "cell_type": "code",
   "execution_count": 4,
   "metadata": {},
   "outputs": [
    {
     "name": "stdout",
     "output_type": "stream",
     "text": [
      "page_content='제123조 ①국가는 농업 및 어업을 보호ㆍ육성하기 위하여 농ㆍ어촌종합개발과 그 지원등 필요한 계획을 수립ㆍ시행하\n",
      "여야 한다.\n",
      "②국가는 지역간의 균형있는 발전을 위하여 지역경제를 육성할 의무를 진다.\n",
      "③국가는 중소기업을 보호ㆍ육성하여야 한다.\n",
      "④국가는 농수산물의 수급균형과 유통구조의 개선에 노력하여 가격안정을 도모함으로써 농ㆍ어민의 이익을 보호\n",
      "한다.' metadata={'page': 11, 'page_label': '12', 'source': './data/대한민국헌법(헌법)(제00010호)(19880225).pdf'}\n"
     ]
    },
    {
     "data": {
      "text/plain": [
       "[(Document(metadata={'page': 11, 'page_label': '12', 'source': './data/대한민국헌법(헌법)(제00010호)(19880225).pdf'}, page_content='제123조 ①국가는 농업 및 어업을 보호ㆍ육성하기 위하여 농ㆍ어촌종합개발과 그 지원등 필요한 계획을 수립ㆍ시행하\\n여야 한다.\\n②국가는 지역간의 균형있는 발전을 위하여 지역경제를 육성할 의무를 진다.\\n③국가는 중소기업을 보호ㆍ육성하여야 한다.\\n④국가는 농수산물의 수급균형과 유통구조의 개선에 노력하여 가격안정을 도모함으로써 농ㆍ어민의 이익을 보호\\n한다.'),\n",
       "  0.5719609569110812),\n",
       " (Document(metadata={'page': 12, 'page_label': '13', 'source': './data/대한민국헌법(헌법)(제00010호)(19880225).pdf'}, page_content='③대통령은 제1항의 목적을 달성하기 위하여 필요한 자문기구를 둘 수 있다.\\n \\n       제10장 헌법개정\\n \\n제128조 ①헌법개정은 국회재적의원 과반수 또는 대통령의 발의로 제안된다.\\n②대통령의 임기연장 또는 중임변경을 위한 헌법개정은 그 헌법개정 제안 당시의 대통령에 대하여는 효력이 없다.\\n \\n제129조 제안된 헌법개정안은 대통령이 20일 이상의 기간 이를 공고하여야 한다.\\n \\n제130조 ①국회는 헌법개정안이 공고된 날로부터 60일 이내에 의결하여야 하며, 국회의 의결은 재적의원 3분의 2 이상\\n의 찬성을 얻어야 한다.\\n②헌법개정안은 국회가 의결한 후 30일 이내에 국민투표에 붙여 국회의원선거권자 과반수의 투표와 투표자 과반수\\n의 찬성을 얻어야 한다.\\n③헌법개정안이 제2항의 찬성을 얻은 때에는 헌법개정은 확정되며, 대통령은 즉시 이를 공포하여야 한다.\\n  \\n부칙 <제10호,1987. 10. 29.>'),\n",
       "  0.5778240290782715),\n",
       " (Document(metadata={'page': 6, 'page_label': '7', 'source': './data/대한민국헌법(헌법)(제00010호)(19880225).pdf'}, page_content='제70조 대통령의 임기는 5년으로 하며, 중임할 수 없다.\\n \\n제71조 대통령이 궐위되거나 사고로 인하여 직무를 수행할 수 없을 때에는 국무총리, 법률이 정한 국무위원의 순서로\\n그 권한을 대행한다.\\n \\n제72조 대통령은 필요하다고 인정할 때에는 외교ㆍ국방ㆍ통일 기타 국가안위에 관한 중요정책을 국민투표에 붙일 수\\n있다.\\n \\n제73조 대통령은 조약을 체결ㆍ비준하고, 외교사절을 신임ㆍ접수 또는 파견하며, 선전포고와 강화를 한다.\\n \\n제74조 ①대통령은 헌법과 법률이 정하는 바에 의하여 국군을 통수한다.\\n②국군의 조직과 편성은 법률로 정한다.\\n \\n제75조 대통령은 법률에서 구체적으로 범위를 정하여 위임받은 사항과 법률을 집행하기 위하여 필요한 사항에 관하여\\n대통령령을 발할 수 있다.\\n \\n제76조 ①대통령은 내우ㆍ외환ㆍ천재ㆍ지변 또는 중대한 재정ㆍ경제상의 위기에 있어서 국가의 안전보장 또는 공공의'),\n",
       "  0.5925146889105048),\n",
       " (Document(metadata={'page': 6, 'page_label': '7', 'source': './data/대한민국헌법(헌법)(제00010호)(19880225).pdf'}, page_content='②제1항의 선거에 있어서 최고득표자가 2인 이상인 때에는 국회의 재적의원 과반수가 출석한 공개회의에서 다수표\\n를 얻은 자를 당선자로 한다.\\n③대통령후보자가 1인일 때에는 그 득표수가 선거권자 총수의 3분의 1 이상이 아니면 대통령으로 당선될 수 없다.\\n④대통령으로 선거될 수 있는 자는 국회의원의 피선거권이 있고 선거일 현재 40세에 달하여야 한다.\\n⑤대통령의 선거에 관한 사항은 법률로 정한다.\\n \\n제68조 ①대통령의 임기가 만료되는 때에는 임기만료 70일 내지 40일 전에 후임자를 선거한다.\\n②대통령이 궐위된 때 또는 대통령 당선자가 사망하거나 판결 기타의 사유로 그 자격을 상실한 때에는 60일 이내에\\n후임자를 선거한다.\\n \\n제69조 대통령은 취임에 즈음하여 다음의 선서를 한다.\\n“나는 헌법을 준수하고 국가를 보위하며 조국의 평화적 통일과 국민의 자유와 복리의 증진 및 민족문화의 창달에\\n노력하여 대통령으로서의 직책을 성실히 수행할 것을 국민 앞에 엄숙히 선서합니다.”'),\n",
       "  0.5930325392086333)]"
      ]
     },
     "execution_count": 4,
     "metadata": {},
     "output_type": "execute_result"
    }
   ],
   "source": [
    "query=\"대통령의 임기는?\"\n",
    "\n",
    "# 유사문서 검색\n",
    "docs = db.similarity_search(query)\n",
    "print(docs[0])\n",
    "\n",
    "# 유사문서 검색 및 유사도 출력\n",
    "db.similarity_search_with_score(query)"
   ]
  },
  {
   "cell_type": "code",
   "execution_count": 2,
   "metadata": {},
   "outputs": [
    {
     "name": "stderr",
     "output_type": "stream",
     "text": [
      "C:\\Users\\gram\\AppData\\Local\\Temp\\ipykernel_21104\\3104654464.py:15: LangChainDeprecationWarning: The class `HuggingFaceEmbeddings` was deprecated in LangChain 0.2.2 and will be removed in 1.0. An updated version of the class exists in the :class:`~langchain-huggingface package and should be used instead. To use it run `pip install -U :class:`~langchain-huggingface` and import as `from :class:`~langchain_huggingface import HuggingFaceEmbeddings``.\n",
      "  ko_embedding= HuggingFaceEmbeddings(\n",
      "c:\\Users\\gram\\AppData\\Local\\Programs\\Python\\Python311\\Lib\\site-packages\\transformers\\tokenization_utils_base.py:1601: FutureWarning: `clean_up_tokenization_spaces` was not set. It will be set to `True` by default. This behavior will be depracted in transformers v4.45, and will be then set to `False` by default. For more details check this issue: https://github.com/huggingface/transformers/issues/31884\n",
      "  warnings.warn(\n"
     ]
    },
    {
     "ename": "",
     "evalue": "",
     "output_type": "error",
     "traceback": [
      "\u001b[1;31m현재 셀 또는 이전 셀에서 코드를 실행하는 동안 Kernel이 충돌했습니다. \n",
      "\u001b[1;31m셀의 코드를 검토하여 가능한 오류 원인을 식별하세요. \n",
      "\u001b[1;31m자세한 내용을 보려면 <a href='https://aka.ms/vscodeJupyterKernelCrash'>여기</a>를 클릭하세요. \n",
      "\u001b[1;31m자세한 내용은 Jupyter <a href='command:jupyter.viewOutput'>로그</a>를 참조하세요."
     ]
    }
   ],
   "source": [
    "from langchain.document_loaders import PyPDFLoader\n",
    "from langchain_text_splitters import RecursiveCharacterTextSplitter\n",
    "from langchain.embeddings import HuggingFaceEmbeddings\n",
    "from langchain_chroma import Chroma\n",
    "\n",
    "loader = PyPDFLoader(r\"./data/대한민국헌법(헌법)(제00010호)(19880225).pdf\")\n",
    "pages = loader.load_and_split()\n",
    "\n",
    "text_splitter = RecursiveCharacterTextSplitter(chunk_size=500, chunk_overlap=0)\n",
    "docs = text_splitter.split_documents(pages)\n",
    "\n",
    "\n",
    "#HuggingfaceEmbedding 함수로 Open source 임베딩 모델 로드\n",
    "model_name = \"jhgan/ko-sroberta-multitask\"\n",
    "ko_embedding= HuggingFaceEmbeddings(\n",
    "    model_name=model_name\n",
    ")\n",
    "\n",
    "\n",
    "#save to disk\n",
    "db2 = Chroma.from_documents(docs, ko_embedding, persist_directory=\"./chroma_db_2\")\n",
    "\n",
    "# load from disk\n",
    "db3 = Chroma(persist_directory=\"./chroma_db_2\", embedding_function=ko_embedding)\n",
    "\n",
    "query = \"대통령의 임기는?\"\n",
    "result = db3.similarity_search(query)\n",
    "print(result[0].page_content)"
   ]
  },
  {
   "cell_type": "code",
   "execution_count": null,
   "metadata": {},
   "outputs": [
    {
     "data": {
      "text/plain": [
       "1741140174787583000"
      ]
     },
     "execution_count": 5,
     "metadata": {},
     "output_type": "execute_result"
    }
   ],
   "source": [
    "# Chroma DB API를 활용한 문서 관리 \n",
    "# Collection 기능 : 텍스트 임베딩을 포함하는 상위 개념 폴더로 데이터 추가, 교체, 삭제와 같은 기본적인 DB 관리 작업 수행한다\n",
    "\n",
    "# Collection 객체 생성과 문서 저장\n",
    "\n",
    "import chromadb \n",
    "\n",
    "# Collection을 저장할 경로 지정\n",
    "client = chromadb.PersistentClient(path=\"collection_example\")\n",
    "\n",
    "# client 연결 확인 (미연결 시 출력하지 않음)\n",
    "client.heartbeat()"
   ]
  },
  {
   "cell_type": "code",
   "execution_count": null,
   "metadata": {},
   "outputs": [
    {
     "data": {
      "application/vnd.jupyter.widget-view+json": {
       "model_id": "6de6cac9a2fb450ca63e3da8e1a37d3d",
       "version_major": 2,
       "version_minor": 0
      },
      "text/plain": [
       "tokenizer_config.json:   0%|          | 0.00/538 [00:00<?, ?B/s]"
      ]
     },
     "metadata": {},
     "output_type": "display_data"
    },
    {
     "data": {
      "application/vnd.jupyter.widget-view+json": {
       "model_id": "a198635250ab41cdbab4aa69d267fa8d",
       "version_major": 2,
       "version_minor": 0
      },
      "text/plain": [
       "vocab.txt:   0%|          | 0.00/248k [00:00<?, ?B/s]"
      ]
     },
     "metadata": {},
     "output_type": "display_data"
    },
    {
     "data": {
      "application/vnd.jupyter.widget-view+json": {
       "model_id": "a3ff1f3d9f2641f4832ea5a0b353bc92",
       "version_major": 2,
       "version_minor": 0
      },
      "text/plain": [
       "tokenizer.json:   0%|          | 0.00/495k [00:00<?, ?B/s]"
      ]
     },
     "metadata": {},
     "output_type": "display_data"
    },
    {
     "data": {
      "application/vnd.jupyter.widget-view+json": {
       "model_id": "47f80f39c20c460ca3ac4d0473a51d98",
       "version_major": 2,
       "version_minor": 0
      },
      "text/plain": [
       "special_tokens_map.json:   0%|          | 0.00/112 [00:00<?, ?B/s]"
      ]
     },
     "metadata": {},
     "output_type": "display_data"
    },
    {
     "data": {
      "application/vnd.jupyter.widget-view+json": {
       "model_id": "34d58bcfc391445c969a0e62cba6bac8",
       "version_major": 2,
       "version_minor": 0
      },
      "text/plain": [
       "1_Pooling%2Fconfig.json:   0%|          | 0.00/190 [00:00<?, ?B/s]"
      ]
     },
     "metadata": {},
     "output_type": "display_data"
    }
   ],
   "source": [
    "import os\n",
    "from chromadb.utils import embedding_functions \n",
    "from chromadb.utils.embedding_functions import GoogleGenerativeAiEmbeddingFunction\n",
    "\n",
    "# google 임베딩 모델 활용\n",
    "api_key = os.environ[\"GEMINI_API_KEY\"]\n",
    "\n",
    "embedding_function = GoogleGenerativeAiEmbeddingFunction(model_name=\"models/embedding-001\", api_key=api_key)\n",
    "\n",
    "# HuggingFace 오픈 소스 임베딩 모델 활용 \n",
    "embedding_function = embedding_functions.SentenceTransformerEmbeddingFunction(model_name=\"jhgan/ko-sbert-nli\")\n",
    "\n",
    "collection = client.create_collection(name=\"korean_law\", embedding_function=embedding_function)"
   ]
  },
  {
   "cell_type": "code",
   "execution_count": 16,
   "metadata": {},
   "outputs": [],
   "source": [
    "# 문서를 임베딩으로 변환하여 Collection에 저장 \n",
    "\n",
    "from langchain_text_splitters import RecursiveCharacterTextSplitter\n",
    "from langchain.vectorstores import Chroma \n",
    "from langchain.document_loaders import PyPDFLoader \n",
    "\n",
    "# load the document and split it into chunks\n",
    "loader = PyPDFLoader(r\"./data/대한민국헌법(헌법)(제00010호)(19880225).pdf\")\n",
    "pages = loader.load_and_split()\n",
    "\n",
    "# split it into chunks\n",
    "text_splitter = RecursiveCharacterTextSplitter(chunk_size=500, chunk_overlap=0)\n",
    "docs = text_splitter.split_documents(pages)\n",
    "\n",
    "collection.add(\n",
    "    ids = [str(i) for i in range(len(docs))],\n",
    "    documents=[i.page_content for i in docs],\n",
    "    metadatas=[i.metadata for i in docs]\n",
    ")"
   ]
  },
  {
   "cell_type": "code",
   "execution_count": 17,
   "metadata": {},
   "outputs": [
    {
     "data": {
      "text/plain": [
       "Collection(name=korean_law)"
      ]
     },
     "execution_count": 17,
     "metadata": {},
     "output_type": "execute_result"
    }
   ],
   "source": [
    "# Collection 로드하기\n",
    "\n",
    "# name에 collection 이름, embedding_function은 collection 저장 시 지정한 임베딩 모델 지정\n",
    "collection = client.get_collection(name=\"korean_law\", embedding_function=embedding_function)\n",
    "collection"
   ]
  },
  {
   "cell_type": "code",
   "execution_count": 18,
   "metadata": {},
   "outputs": [
    {
     "data": {
      "text/plain": [
       "{'ids': [['7', '5', '4']],\n",
       " 'embeddings': None,\n",
       " 'documents': [['제15조 모든 국민은 직업선택의 자유를 가진다.\\n \\n제16조 모든 국민은 주거의 자유를 침해받지 아니한다. 주거에 대한 압수나 수색을 할 때에는 검사의 신청에 의하여 법\\n관이 발부한 영장을 제시하여야 한다.\\n \\n제17조 모든 국민은 사생활의 비밀과 자유를 침해받지 아니한다.\\n \\n제18조 모든 국민은 통신의 비밀을 침해받지 아니한다.\\n \\n제19조 모든 국민은 양심의 자유를 가진다.\\n \\n제20조 ①모든 국민은 종교의 자유를 가진다.\\n②국교는 인정되지 아니하며, 종교와 정치는 분리된다.',\n",
       "   '제12조 ①모든 국민은 신체의 자유를 가진다. 누구든지 법률에 의하지 아니하고는 체포ㆍ구속ㆍ압수ㆍ수색 또는 심문\\n을 받지 아니하며, 법률과 적법한 절차에 의하지 아니하고는 처벌ㆍ보안처분 또는 강제노역을 받지 아니한다.\\n②모든 국민은 고문을 받지 아니하며, 형사상 자기에게 불리한 진술을 강요당하지 아니한다.\\n③체포ㆍ구속ㆍ압수 또는 수색을 할 때에는 적법한 절차에 따라 검사의 신청에 의하여 법관이 발부한 영장을 제시\\n하여야 한다. 다만, 현행범인인 경우와 장기 3년 이상의 형에 해당하는 죄를 범하고 도피 또는 증거인멸의 염려가\\n있을 때에는 사후에 영장을 청구할 수 있다.\\n④누구든지 체포 또는 구속을 당한 때에는 즉시 변호인의 조력을 받을 권리를 가진다. 다만, 형사피고인이 스스로\\n변호인을 구할 수 없을 때에는 법률이 정하는 바에 의하여 국가가 변호인을 붙인다.\\n⑤누구든지 체포 또는 구속의 이유와 변호인의 조력을 받을 권리가 있음을 고지받지 아니하고는 체포 또는 구속을',\n",
       "   '법제처                                                            2                                                       국가법령정보센터\\n대한민국헌법\\n \\n       제2장 국민의 권리와 의무\\n \\n제10조 모든 국민은 인간으로서의 존엄과 가치를 가지며, 행복을 추구할 권리를 가진다. 국가는 개인이 가지는 불가침\\n의 기본적 인권을 확인하고 이를 보장할 의무를 진다.\\n \\n제11조 ①모든 국민은 법 앞에 평등하다. 누구든지 성별ㆍ종교 또는 사회적 신분에 의하여 정치적ㆍ경제적ㆍ사회적ㆍ\\n문화적 생활의 모든 영역에 있어서 차별을 받지 아니한다.\\n②사회적 특수계급의 제도는 인정되지 아니하며, 어떠한 형태로도 이를 창설할 수 없다.\\n③훈장등의 영전은 이를 받은 자에게만 효력이 있고, 어떠한 특권도 이에 따르지 아니한다.']],\n",
       " 'uris': None,\n",
       " 'data': None,\n",
       " 'metadatas': [[{'page': 1,\n",
       "    'page_label': '2',\n",
       "    'source': './data/대한민국헌법(헌법)(제00010호)(19880225).pdf'},\n",
       "   {'page': 1,\n",
       "    'page_label': '2',\n",
       "    'source': './data/대한민국헌법(헌법)(제00010호)(19880225).pdf'},\n",
       "   {'page': 1,\n",
       "    'page_label': '2',\n",
       "    'source': './data/대한민국헌법(헌법)(제00010호)(19880225).pdf'}]],\n",
       " 'distances': [[395.47450447143063, 492.28085308985396, 501.5186023119764]],\n",
       " 'included': [<IncludeEnum.distances: 'distances'>,\n",
       "  <IncludeEnum.documents: 'documents'>,\n",
       "  <IncludeEnum.metadatas: 'metadatas'>]}"
      ]
     },
     "execution_count": 18,
     "metadata": {},
     "output_type": "execute_result"
    }
   ],
   "source": [
    "# Collection 내 문서 검색\n",
    "\n",
    "# 1페이지에서 직업 선택의 자유와 유사한 청크 3개 검색\n",
    "collection.query(\n",
    "    query_texts=[\"직업 선택의 자유\"],\n",
    "    n_results=3,\n",
    "    where={\"page\": 1},\n",
    ")"
   ]
  },
  {
   "cell_type": "code",
   "execution_count": null,
   "metadata": {},
   "outputs": [
    {
     "data": {
      "text/plain": [
       "{'ids': [['47', '45', '24']],\n",
       " 'embeddings': None,\n",
       " 'documents': [['법제처                                                            13                                                       국가법령정보센터\\n대한민국헌법\\n⑤국가는 농ㆍ어민과 중소기업의 자조조직을 육성하여야 하며, 그 자율적 활동과 발전을 보장한다.\\n \\n제124조 국가는 건전한 소비행위를 계도하고 생산품의 품질향상을 촉구하기 위한 소비자보호운동을 법률이 정하는 바\\n에 의하여 보장한다.\\n \\n제125조 국가는 대외무역을 육성하며, 이를 규제ㆍ조정할 수 있다.\\n \\n제126조 국방상 또는 국민경제상 긴절한 필요로 인하여 법률이 정하는 경우를 제외하고는, 사영기업을 국유 또는 공유\\n로 이전하거나 그 경영을 통제 또는 관리할 수 없다.\\n \\n제127조 ①국가는 과학기술의 혁신과 정보 및 인력의 개발을 통하여 국민경제의 발전에 노력하여야 한다.\\n②국가는 국가표준제도를 확립한다.',\n",
       "   '지하며, 경제주체간의 조화를 통한 경제의 민주화를 위하여 경제에 관한 규제와 조정을 할 수 있다.\\n \\n제120조 ①광물 기타 중요한 지하자원ㆍ수산자원ㆍ수력과 경제상 이용할 수 있는 자연력은 법률이 정하는 바에 의하\\n여 일정한 기간 그 채취ㆍ개발 또는 이용을 특허할 수 있다.\\n②국토와 자원은 국가의 보호를 받으며, 국가는 그 균형있는 개발과 이용을 위하여 필요한 계획을 수립한다.\\n \\n제121조 ①국가는 농지에 관하여 경자유전의 원칙이 달성될 수 있도록 노력하여야 하며, 농지의 소작제도는 금지된다.\\n②농업생산성의 제고와 농지의 합리적인 이용을 위하거나 불가피한 사정으로 발생하는 농지의 임대차와 위탁경영\\n은 법률이 정하는 바에 의하여 인정된다.\\n \\n제122조 국가는 국민 모두의 생산 및 생활의 기반이 되는 국토의 효율적이고 균형있는 이용ㆍ개발과 보전을 위하여 법\\n률이 정하는 바에 의하여 그에 관한 필요한 제한과 의무를 과할 수 있다.',\n",
       "   '법제처                                                            7                                                       국가법령정보센터\\n대한민국헌법\\n있어야 한다.\\n③탄핵소추의 의결을 받은 자는 탄핵심판이 있을 때까지 그 권한행사가 정지된다.\\n④탄핵결정은 공직으로부터 파면함에 그친다. 그러나, 이에 의하여 민사상이나 형사상의 책임이 면제되지는 아니한\\n다.\\n \\n       제4장 정부\\n         제1절 대통령\\n \\n제66조 ①대통령은 국가의 원수이며, 외국에 대하여 국가를 대표한다.\\n②대통령은 국가의 독립ㆍ영토의 보전ㆍ국가의 계속성과 헌법을 수호할 책무를 진다.\\n③대통령은 조국의 평화적 통일을 위한 성실한 의무를 진다.\\n④행정권은 대통령을 수반으로 하는 정부에 속한다.\\n \\n제67조 ①대통령은 국민의 보통ㆍ평등ㆍ직접ㆍ비밀선거에 의하여 선출한다.']],\n",
       " 'uris': None,\n",
       " 'data': None,\n",
       " 'metadatas': [[{'page': 12,\n",
       "    'page_label': '13',\n",
       "    'source': './data/대한민국헌법(헌법)(제00010호)(19880225).pdf'},\n",
       "   {'page': 11,\n",
       "    'page_label': '12',\n",
       "    'source': './data/대한민국헌법(헌법)(제00010호)(19880225).pdf'},\n",
       "   {'page': 6,\n",
       "    'page_label': '7',\n",
       "    'source': './data/대한민국헌법(헌법)(제00010호)(19880225).pdf'}]],\n",
       " 'distances': [[515.1322442197699, 546.3651189406639, 556.7550173691534]],\n",
       " 'included': [<IncludeEnum.distances: 'distances'>,\n",
       "  <IncludeEnum.documents: 'documents'>,\n",
       "  <IncludeEnum.metadatas: 'metadatas'>]}"
      ]
     },
     "execution_count": 19,
     "metadata": {},
     "output_type": "execute_result"
    }
   ],
   "source": [
    "# 조건 부 문서 검색 \n",
    "# 메타 데이터 기반으로 검색\n",
    "\n",
    "# 5페이지 이후의 청크 중에서 직업 선택의 자유와 관련한 문서 3개 검색\n",
    "# $eq - 일치 (string, int, float)\n",
    "# $ne - 불일치 (string, int, float)\n",
    "# $gt - 초과 (int, float)\n",
    "# $gte - 이상 (int, float)\n",
    "# $lt - 미만 (int, float)\n",
    "# $lte - 이하 (int, float)\n",
    "collection.query(\n",
    "    query_texts=[\"직업 선택의 자유\"],\n",
    "    n_results=3,\n",
    "    where={\"page\": {\"$gte\": 5}}\n",
    ")"
   ]
  },
  {
   "cell_type": "code",
   "execution_count": 20,
   "metadata": {},
   "outputs": [
    {
     "data": {
      "text/plain": [
       "{'ids': [['7']],\n",
       " 'embeddings': None,\n",
       " 'documents': [['제15조 모든 국민은 직업선택의 자유를 가진다.\\n \\n제16조 모든 국민은 주거의 자유를 침해받지 아니한다. 주거에 대한 압수나 수색을 할 때에는 검사의 신청에 의하여 법\\n관이 발부한 영장을 제시하여야 한다.\\n \\n제17조 모든 국민은 사생활의 비밀과 자유를 침해받지 아니한다.\\n \\n제18조 모든 국민은 통신의 비밀을 침해받지 아니한다.\\n \\n제19조 모든 국민은 양심의 자유를 가진다.\\n \\n제20조 ①모든 국민은 종교의 자유를 가진다.\\n②국교는 인정되지 아니하며, 종교와 정치는 분리된다.']],\n",
       " 'uris': None,\n",
       " 'data': None,\n",
       " 'metadatas': [[{'page': 1,\n",
       "    'page_label': '2',\n",
       "    'source': './data/대한민국헌법(헌법)(제00010호)(19880225).pdf'}]],\n",
       " 'distances': [[395.47450447143063]],\n",
       " 'included': [<IncludeEnum.distances: 'distances'>,\n",
       "  <IncludeEnum.documents: 'documents'>,\n",
       "  <IncludeEnum.metadatas: 'metadatas'>]}"
      ]
     },
     "execution_count": 20,
     "metadata": {},
     "output_type": "execute_result"
    }
   ],
   "source": [
    "# 메타 데이터가 아닌, 문서의 키워드 포함 여부를 통한 필터링 검색\n",
    "\n",
    "collection.query(\n",
    "    query_texts=[\"직업 선택의 자유\"],\n",
    "    n_results=3, \n",
    "    where={\"page\": 1},\n",
    "    where_document={\"$contains\":\"직업\"}\n",
    ")"
   ]
  },
  {
   "cell_type": "code",
   "execution_count": 1,
   "metadata": {},
   "outputs": [],
   "source": [
    "# import chromadb\n",
    "\n",
    "# # Chroma DB 클라이언트 생성 (데이터베이스 연결)\n",
    "# client = chromadb.Client()\n",
    "\n",
    "# # Collection 생성 (테이블 생성)\n",
    "# collection1 = client.create_collection(name=\"my_collection_1\")\n",
    "# collection2 = client.create_collection(name=\"my_collection_2\")\n",
    "\n",
    "# # Collection 1에 데이터 추가\n",
    "# collection1.add(\n",
    "#     embeddings=[[1.1, 2.3, 3.2], [4.5, 6.7, 8.9]],\n",
    "#     documents=[\"This is document 1\", \"This is document 2\"],\n",
    "#     ids=[\"id1\", \"id2\"]\n",
    "# )\n",
    "\n",
    "# # Collection 2에 데이터 추가\n",
    "# collection2.add(\n",
    "#     embeddings=[[9.0, 8.7, 6.5], [4.3, 2.1, 1.0]],\n",
    "#     documents=[\"This is document 3\", \"This is document 4\"],\n",
    "#     ids=[\"id3\", \"id4\"]\n",
    "# )\n",
    "\n",
    "# # Collection 1 에서 검색\n",
    "# results_collection1 = collection1.query(\n",
    "#     query_embeddings=[[3.2, 4.3, 5.4]],\n",
    "#     n_results=2\n",
    "# )\n",
    "# print(\"Collection 1 검색 결과:\", results_collection1)\n",
    "\n",
    "# # Collection 2 에서 검색\n",
    "# results_collection2 = collection2.query(\n",
    "#     query_embeddings=[[0.9, 1.2, 2.3]],\n",
    "#     n_results=2\n",
    "# )\n",
    "# print(\"Collection 2 검색 결과:\", results_collection2)"
   ]
  },
  {
   "cell_type": "code",
   "execution_count": null,
   "metadata": {},
   "outputs": [],
   "source": []
  }
 ],
 "metadata": {
  "kernelspec": {
   "display_name": "Python 3",
   "language": "python",
   "name": "python3"
  },
  "language_info": {
   "codemirror_mode": {
    "name": "ipython",
    "version": 3
   },
   "file_extension": ".py",
   "mimetype": "text/x-python",
   "name": "python",
   "nbconvert_exporter": "python",
   "pygments_lexer": "ipython3",
   "version": "3.11.5"
  }
 },
 "nbformat": 4,
 "nbformat_minor": 2
}
