{
 "cells": [
  {
   "cell_type": "markdown",
   "metadata": {},
   "source": [
    "## Document Loaders 알아보기"
   ]
  },
  {
   "cell_type": "markdown",
   "metadata": {},
   "source": [
    "다양한 문서를 기반으로 LLM을 활용할 때, RAG에서는 문서를 불러오기 위해 하나의 객체를 새로 정의한다. 랭체인에서는 Document 객체라고 한다.  \n",
    "Document 객체는 문서의 내용인 page_content와 문서의 위치, 제목, 페이지 번호 등 문서의 특성인 metadata를 포함한다.  \n",
    "메타 데이터가 있어야 RAG시스템에 투입된 문서에 근거해서 답변해야 하니 검색이 빠르며, 필요한 정보만 찾고 싶은 필터링 기능에도 활용된다. "
   ]
  },
  {
   "cell_type": "code",
   "execution_count": 6,
   "metadata": {},
   "outputs": [
    {
     "name": "stdout",
     "output_type": "stream",
     "text": [
      "| 6 | CIS이슈리포트 2022-2호 \n",
      "▶(주요품목① : 5G 이동통신) 정보통신 테마 내 기술분야 중 혁신성장 정책금융 공급규모가 가장 큰 차세대무선통신미디어 분야의 경우 4G/5G 기술품목의 정책금융 공급 비중이 가장 높은 것으로 확인됨[차세대무선통신미디어 분야 내 기술품목별 혁신성장 정책금융 공급액 추이](단위: 억 원)\n",
      "▶5G 이동통신 시스템은 ITU(International Telecommunication Union)가 정의한 5세대 이동통신 규격을 만족시키는 무선 이동통신 네트워크 기술로, 2019년부터 국내 서비스를 시작함￮4G 이동통신 시스템(LTE)과 비교할 때 전송속도의 향상(1Gbps→20Gbps), 이동성 향상(350km/h→500km/h에서 끊김없는 데이터 전송 가능), 최대 연결가능 기기수 증가(10만 대 →100만 대 이상), 데이터 전송지연 감소(10ms→1ms) 등의 향상된 기능을 제공함￮5G는 전송속도 향상, 다수기기 접속 및 지연시간 단축을 위해 ①밀리미터파 통신이 가능한 주파수 확장, ②스몰셀(Small cell)을 도입한 기지국, ③다중안테나 송수신(Massive MIMO), ④네트워크 슬라이싱(Network Slicing) 등의 기술을 도입함[5G 주요 요소기술 특징]\n",
      "자료: 삼정 KPMG\n"
     ]
    }
   ],
   "source": [
    "# PyPDFLoader를 이용한 PDF 파일 로드 \n",
    "\n",
    "# PyPDFLoader 불러오기\n",
    "from langchain.document_loaders import PyPDFLoader \n",
    "filename = \"data/[이슈리포트 2022-2호] 혁신성장 정책금융 동향.pdf\"\n",
    "\n",
    "# PDF 파일 불러올 객체 PyPDFLoader 선언\n",
    "loader = PyPDFLoader(filename)\n",
    "\n",
    "# PDF 파일 로드 및 페이지별로 자르기 \n",
    "pages = loader.load_and_split()\n",
    "print(pages[5].page_content)"
   ]
  },
  {
   "cell_type": "markdown",
   "metadata": {},
   "source": [
    "텍스트는 불러왔지만 차트+텍스트, 이미지+텍스트로 구성된 혼합 텍스트는 추출하지 못했다. 드래크가 가능한 부분만 추출했기 때문인데 OCR기능을 통해서 추출 가능하다.  \n",
    "PyPDF의 rapidocr-onnxruntime 라이브러리를 사용하고 extract_images 매개변수를 true로 설정한다."
   ]
  },
  {
   "cell_type": "code",
   "execution_count": 8,
   "metadata": {},
   "outputs": [
    {
     "name": "stdout",
     "output_type": "stream",
     "text": [
      "| 6 | CIS이슈리포트 2022-2호 \n",
      "▶(주요품목① : 5G 이동통신) 정보통신 테마 내 기술분야 중 혁신성장 정책금융 공급규모가 가장 큰 차세대무선통신미디어 분야의 경우 4G/5G 기술품목의 정책금융 공급 비중이 가장 높은 것으로 확인됨[차세대무선통신미디어 분야 내 기술품목별 혁신성장 정책금융 공급액 추이](단위: 억 원)\n",
      "▶5G 이동통신 시스템은 ITU(International Telecommunication Union)가 정의한 5세대 이동통신 규격을 만족시키는 무선 이동통신 네트워크 기술로, 2019년부터 국내 서비스를 시작함￮4G 이동통신 시스템(LTE)과 비교할 때 전송속도의 향상(1Gbps→20Gbps), 이동성 향상(350km/h→500km/h에서 끊김없는 데이터 전송 가능), 최대 연결가능 기기수 증가(10만 대 →100만 대 이상), 데이터 전송지연 감소(10ms→1ms) 등의 향상된 기능을 제공함￮5G는 전송속도 향상, 다수기기 접속 및 지연시간 단축을 위해 ①밀리미터파 통신이 가능한 주파수 확장, ②스몰셀(Small cell)을 도입한 기지국, ③다중안테나 송수신(Massive MIMO), ④네트워크 슬라이싱(Network Slicing) 등의 기술을 도입함[5G 주요 요소기술 특징]\n",
      "자료: 삼정 KPMG25,000\n",
      "20,000\n",
      "15,000\n",
      "10,000\n",
      "RO\n",
      "5,000\n",
      "2017\n",
      "2018\n",
      "2019\n",
      "2020\n",
      "2021\n",
      "4G/5G\n",
      "(loT,M2M)\n",
      "■吾号MassiveMMO+\n",
      "4G5G\n",
      "（）\n",
      "4G\n",
      "4G\n",
      "5G\n",
      "2.6Ghz\n",
      "品号\n",
      "3.5Ghz\n",
      "28Ghz\n",
      "（m）\n",
      "5G\n",
      "（1k0H）\n",
      "loboly\n",
      "Massive\n",
      "（km）\n",
      "loT\n",
      "5G3.5Ghz28Ghz0\n",
      "MassiveMIMOEI\n",
      "舍Korea\n",
      "Credit Information\n",
      "Services\n"
     ]
    }
   ],
   "source": [
    "# PyPDFLoader 불러오기\n",
    "from langchain.document_loaders import PyPDFLoader \n",
    "\n",
    "# PDF 파일 불러올 객체 PyPDFLoader 선언(extract_images=True으로 OCR수행)\n",
    "loader = PyPDFLoader(filename, extract_images=True)\n",
    "\n",
    "# PDF 파일 로드 및 페이지별로 자르기\n",
    "pages = loader.load_and_split()\n",
    "print(pages[5].page_content)"
   ]
  },
  {
   "cell_type": "markdown",
   "metadata": {},
   "source": [
    "좀 더 많은 정보가 추출됐지만 사용하기엔 아직 부족하다. "
   ]
  },
  {
   "cell_type": "code",
   "execution_count": 11,
   "metadata": {},
   "outputs": [
    {
     "name": "stdout",
     "output_type": "stream",
     "text": [
      "page_content='| 4 | CIS이슈리포트 2022-2호 \n",
      "[혁신성장 ICT 산업 정책금융 공급 현황]                                                            (단위: 억 원, 괄호는 점유율 %)구분2017년 말2018년 말2019년 말2020년 말2021년 말혁신성장 ICT 산업45,075 72,799 81,805 139,687 169,089 (18.7)(20.7)(18.5)(20.3)(19.8)정보통신15,658 27,417 39,033 65,324 77,750 (6.5)(7.8)(8.8)(9.5)(9.1)전기전자26,637 38,521 35,922 62,856 77,485 (11.1)(10.9)(8.1)(9.1)(9.1)센서측정2,780 6,861 6,851 11,506 13,854 (1.2)(1.9)(1.5)(1.7)(1.6)혁신성장 정책금융 총 공급액240,787 351,987 443,180 688,409 854,338 3. 정보통신 테마 혁신성장 정책금융 현황 및 관련 산업 동향▶(지원 현황) 정보통신 테마를 구성하는 기술분야별 정책금융 지원 현황 분석결과, 공급점유율 관점에서는 차세대무선통신미디어 분야에 가장 많은 정책자금이 투입 되고 있으며, 공급량 증가율 관점에서는 능동형컴퓨팅 분야로의 정책자금 지원 증가 속도가 가장 빠른 추세임￮차세대무선통신미디어란 전송속도 향상, 소모전력 절감, 고속이동 중 끊김없는 통신 등 새로운 무선환경에 필요한 통신, 인프라 및 서비스 기술을 통칭하며, 4G/5G/6G, 사물인터넷, 방송통신인프라 등의 품목으로 구성됨-정보통신 테마 내 혁신성장 정책금융 공급 규모의 약 50%를 점유하고 있으며, 이는 초연결 미래사회를 구축하기 위해 네트워크 기반 기술 사업화에 대한 정책자금 공급이 꾸준함에 따른 것으로 분석됨￮능동형컴퓨팅이란 거대하고 복잡해지는 데이터의 효율적 가공과 관리를 위한 인간두뇌와 유사한 형태의 정보처리기술을 말하며, 인공지능, 상황인지컴퓨팅 등의 품목으로 구성됨-컴퓨팅 기술을 활용한 다양한 사업화가 활발히 진행되고 있어 혁신성장 정책금융 공급 규모가 매년 약 100% 수준으로 증가하고 있으며, 새정부의 ‘미래 먹거리산업 신성장 전략추진*’에 따라 인공지능 관련 기술로의 금융지원이 늘어날 것으로 전망됨       * 에너지, 방산, 우주항공, 인공지능(AI), 바이오, 탄소중립 대응, 스마트농업을 차세대 6대 먹거리 산업으로 선정' metadata={'source': 'data/[이슈리포트 2022-2호] 혁신성장 정책금융 동향.pdf', 'page': 3, 'page_label': '4'}\n"
     ]
    }
   ],
   "source": [
    "# PDF 파일 4페이지의 테이블 정보 추출 확인\n",
    "\n",
    "from langchain_community.document_loaders import PyPDFLoader\n",
    "\n",
    "# PDF 파일 불러올 객체 PyPDFLoader 선언\n",
    "loader = PyPDFLoader(filename)\n",
    "\n",
    "# PDF 파일 로드 및 페이지별로 자르기\n",
    "pages = loader.load_and_split()\n",
    "print(pages[3])    "
   ]
  },
  {
   "cell_type": "markdown",
   "metadata": {},
   "source": [
    "PyPDFium2  \n",
    "[이미지+텍스트 페이지 내 텍스트 추출]"
   ]
  },
  {
   "cell_type": "code",
   "execution_count": 14,
   "metadata": {},
   "outputs": [
    {
     "name": "stdout",
     "output_type": "stream",
     "text": [
      "| 6 | CIS이슈리포트 2022-2호 \n",
      "▶ (주요품목① : 5G 이동통신) 정보통신 테마 내 기술분야 중 혁신성장 정책금융 공급규모가 가장 큰\n",
      "차세대무선통신미디어 분야의 경우 4G/5G 기술품목의 정책금융 공급 비중이 가장 높은 것으로 확인됨\n",
      "[차세대무선통신미디어 분야 내 기술품목별 혁신성장 정책금융 공급액 추이]\n",
      "(단위: 억 원)\n",
      "▶ 5G 이동통신 시스템은 ITU(International Telecommunication Union)가 정의한 5세대 이동통신\n",
      "규격을 만족시키는 무선 이동통신 네트워크 기술로, 2019년부터 국내 서비스를 시작함\n",
      "￮ 4G 이동통신 시스템(LTE)과 비교할 때 전송속도의 향상(1Gbps→20Gbps), 이동성 향상\n",
      "(350km/h→500km/h에서 끊김없는 데이터 전송 가능), 최대 연결가능 기기수 증가(10만 대 →\n",
      "100만 대 이상), 데이터 전송지연 감소(10ms→1ms) 등의 향상된 기능을 제공함\n",
      "￮ 5G는 전송속도 향상, 다수기기 접속 및 지연시간 단축을 위해 ①밀리미터파 통신이 가능한 주파수 \n",
      "확장, ②스몰셀(Small cell)을 도입한 기지국, ③다중안테나 송수신(Massive MIMO), ④네트워크 \n",
      "슬라이싱(Network Slicing) 등의 기술을 도입함\n",
      "[5G 주요 요소기술 특징]\n",
      "자료: 삼정 KPMG\n",
      "\n"
     ]
    }
   ],
   "source": [
    "from langchain.document_loaders import PyPDFium2Loader\n",
    "\n",
    "import warnings \n",
    "warnings.filterwarnings(\"ignore\")\n",
    "\n",
    "loader = PyPDFium2Loader(filename) \n",
    "\n",
    "data = loader.load()\n",
    "print(data[5].page_content)"
   ]
  },
  {
   "cell_type": "code",
   "execution_count": 15,
   "metadata": {},
   "outputs": [
    {
     "name": "stdout",
     "output_type": "stream",
     "text": [
      "| 4 | CIS이슈리포트 2022-2호 \n",
      "[혁신성장 ICT 산업 정책금융 공급 현황]\n",
      " (단위: 억 원, 괄호는 점유율 %)\n",
      "구분 2017년 말 2018년 말 2019년 말 2020년 말 2021년 말\n",
      "혁신성장 ICT 산업\n",
      "45,075 72,799 81,805 139,687 169,089 \n",
      "(18.7) (20.7) (18.5) (20.3) (19.8)\n",
      "정보통신\n",
      "15,658 27,417 39,033 65,324 77,750 \n",
      "(6.5) (7.8) (8.8) (9.5) (9.1)\n",
      "전기전자\n",
      "26,637 38,521 35,922 62,856 77,485 \n",
      "(11.1) (10.9) (8.1) (9.1) (9.1)\n",
      "센서측정\n",
      "2,780 6,861 6,851 11,506 13,854 \n",
      "(1.2) (1.9) (1.5) (1.7) (1.6)\n",
      "혁신성장 정책금융 \n",
      "총 공급액 240,787 351,987 443,180 688,409 854,338 \n",
      "3. 정보통신 테마 혁신성장 정책금융 현황 및 관련 산업 동향\n",
      "▶ (지원 현황) 정보통신 테마를 구성하는 기술분야별 정책금융 지원 현황 분석결과, 공급점유율 관점\n",
      "에서는 차세대무선통신미디어 분야에 가장 많은 정책자금이 투입 되고 있으며, 공급량 증가율 관점\n",
      "에서는 능동형컴퓨팅 분야로의 정책자금 지원 증가 속도가 가장 빠른 추세임\n",
      "￮ 차세대무선통신미디어란 전송속도 향상, 소모전력 절감, 고속이동 중 끊김없는 통신 등 새로운 무선\n",
      "환경에 필요한 통신, 인프라 및 서비스 기술을 통칭하며, 4G/5G/6G, 사물인터넷, 방송통신인프라 \n",
      "등의 품목으로 구성됨\n",
      "- 정보통신 테마 내 혁신성장 정책금융 공급 규모의 약 50%를 점유하고 있으며, 이는 초연결 미래\n",
      "사회를 구축하기 위해 네트워크 기반 기술 사업화에 대한 정책자금 공급이 꾸준함에 따른 것으로 \n",
      "분석됨\n",
      "￮ 능동형컴퓨팅이란 거대하고 복잡해지는 데이터의 효율적 가공과 관리를 위한 인간두뇌와 유사한 \n",
      "형태의 정보처리기술을 말하며, 인공지능, 상황인지컴퓨팅 등의 품목으로 구성됨\n",
      "- 컴퓨팅 기술을 활용한 다양한 사업화가 활발히 진행되고 있어 혁신성장 정책금융 공급 규모가 매년\n",
      "약 100% 수준으로 증가하고 있으며, 새정부의 ‘미래 먹거리산업 신성장 전략추진*’에 따라 인공\n",
      "지능 관련 기술로의 금융지원이 늘어날 것으로 전망됨\n",
      " * 에너지, 방산, 우주항공, 인공지능(AI), 바이오, 탄소중립 대응, 스마트농업을 차세대 6대 먹거리 산업으로 선정\n",
      "\n"
     ]
    }
   ],
   "source": [
    "# 테이블 추출 \n",
    "\n",
    "from langchain.document_loaders import PyPDFium2Loader \n",
    "\n",
    "loader = PyPDFium2Loader(filename)\n",
    "\n",
    "data = loader.load()\n",
    "print(data[3].page_content)"
   ]
  },
  {
   "cell_type": "markdown",
   "metadata": {},
   "source": [
    "PyPDFLoader vs PyPDFium2Loader  \n",
    "\n",
    "[PyPDFLoader의 텍스트 추출 소요 시간]"
   ]
  },
  {
   "cell_type": "code",
   "execution_count": 16,
   "metadata": {},
   "outputs": [
    {
     "name": "stdout",
     "output_type": "stream",
     "text": [
      "실행 시간:  1.9890124797821045\n"
     ]
    }
   ],
   "source": [
    "from langchain.document_loaders import PyPDFLoader\n",
    "import time \n",
    "\n",
    "start_time = time.time()\n",
    "loader = PyPDFLoader(filename)\n",
    "pages = loader.load_and_split()\n",
    "end_time = time.time()\n",
    "print(\"실행 시간: \", end_time - start_time)"
   ]
  },
  {
   "cell_type": "code",
   "execution_count": 17,
   "metadata": {},
   "outputs": [
    {
     "name": "stdout",
     "output_type": "stream",
     "text": [
      "실행 시간:  0.0859677791595459\n"
     ]
    }
   ],
   "source": [
    "from langchain.document_loaders import PyPDFium2Loader\n",
    "import time\n",
    "\n",
    "start_time = time.time()\n",
    "loader = PyPDFium2Loader(filename)\n",
    "pages = loader.load()\n",
    "end_time = time.time()\n",
    "print(\"실행 시간: \", end_time - start_time)"
   ]
  },
  {
   "cell_type": "code",
   "execution_count": null,
   "metadata": {},
   "outputs": [],
   "source": []
  }
 ],
 "metadata": {
  "kernelspec": {
   "display_name": "Python 3",
   "language": "python",
   "name": "python3"
  },
  "language_info": {
   "codemirror_mode": {
    "name": "ipython",
    "version": 3
   },
   "file_extension": ".py",
   "mimetype": "text/x-python",
   "name": "python",
   "nbconvert_exporter": "python",
   "pygments_lexer": "ipython3",
   "version": "3.11.5"
  }
 },
 "nbformat": 4,
 "nbformat_minor": 2
}
