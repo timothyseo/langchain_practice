{
 "cells": [
  {
   "cell_type": "markdown",
   "metadata": {},
   "source": [
    "## 랭체인을 표현하는 언어, LCEL\n",
    "LCEL(LangChanin Expression Language) : 쉬운 코드 작성과 효과적인 모듈 관리를 위한 언어 체계 / 여러 모듈을 엮어 하나의 파이프라인 즉, 체인(chain)을 간단하게 만들 수 있음\n",
    "기본적인 체인 구성 : 프롬프트 템플릿 -> LLM -> 출력 파서"
   ]
  },
  {
   "cell_type": "code",
   "execution_count": 1,
   "metadata": {},
   "outputs": [
    {
     "data": {
      "text/plain": [
       "'Why did the ice cream go to therapy?\\n\\nBecause it felt so broken!'"
      ]
     },
     "execution_count": 1,
     "metadata": {},
     "output_type": "execute_result"
    }
   ],
   "source": [
    "# LCEL로 기본 체인 구성 (프롬프트 템플릿 -> LLM -> 출력 파서)\n",
    "\n",
    "from langchain_core.output_parsers import StrOutputParser\n",
    "from langchain_core.prompts import ChatPromptTemplate\n",
    "from langchain_google_genai import ChatGoogleGenerativeAI\n",
    "\n",
    "import os\n",
    "\n",
    "api_key=os.environ[\"GEMINI_API_KEY\"]\n",
    "\n",
    "# 프롬프트 탬플릿 설정\n",
    "prompt = ChatPromptTemplate.from_template(\"Tell me a short joke about {topic}\")\n",
    "\n",
    "# LLM 호출\n",
    "model = ChatGoogleGenerativeAI(model=\"gemini-2.0-flash-thinking-exp-01-21\", api_key=api_key)\n",
    "\n",
    "# 출력 파서 설정\n",
    "output_parser = StrOutputParser()\n",
    "\n",
    "# LCEL로 프롬프트 템플릿 - LLM - 출력 파서 연결\n",
    "chain = prompt | model | output_parser\n",
    "\n",
    "# invoke 함수로 실행\n",
    "chain.invoke({\"topic\" : \"ice cream\"})"
   ]
  },
  {
   "cell_type": "code",
   "execution_count": 3,
   "metadata": {},
   "outputs": [
    {
     "name": "stdout",
     "output_type": "stream",
     "text": [
      "Why don't bears wear shoes?\n",
      "\n",
      "Because they have bear feet!"
     ]
    }
   ],
   "source": [
    "# stream() : 스트리밍 기능 추가\n",
    "\n",
    "from langchain_core.prompts import ChatPromptTemplate\n",
    "from langchain_google_genai import ChatGoogleGenerativeAI\n",
    "\n",
    "import os \n",
    "\n",
    "api_key = os.environ[\"GEMINI_API_KEY\"]\n",
    "\n",
    "# chain 선언\n",
    "model = ChatGoogleGenerativeAI(model = \"gemini-2.0-flash-thinking-exp-01-21\", api_key=api_key)\n",
    "prompt = ChatPromptTemplate.from_template(\"Tell me a joke about {topic}\")\n",
    "chain = prompt | model \n",
    "\n",
    "# chain의 stream()함수를 통해 스트리밍 기능 추가 \n",
    "for i in chain.stream({\"topic\" : \"bears\"}):\n",
    "    print(i.content, end=\"\", flush=True)"
   ]
  },
  {
   "cell_type": "code",
   "execution_count": 10,
   "metadata": {},
   "outputs": [
    {
     "name": "stdout",
     "output_type": "stream",
     "text": [
      "번역 1: \"Elle lit des livres tous les matins.\"\n",
      "\n",
      "**설명:**\n",
      "\n",
      "* **그녀는 (geunyeoneun):**  Elle (엘) - 그녀, 그녀는\n",
      "* **매일 아침 (maeil achim):** tous les matins (뚜 레 마탱) - 매일 아침\n",
      "    * tous (뚜) - 모든, 매\n",
      "    * les (레) - 정관사 복수\n",
      "    * matins (마탱) - 아침들 (복수형으로 매일 아침을 나타냄)\n",
      "* **책을 (chaegeul):** des livres (데 리브르) - 책들\n",
      "    * des (데) - 부정관사 복수 (여기서는 '몇 권의' 보다는 일반적인 '책들'을 의미)\n",
      "    * livres (리브르) - 책들 (복수)\n",
      "* **읽습니다 (ikseumnida):** lit (리) - 읽는다 (lire 동사 3인칭 단수 현재형)\n",
      "\n",
      "**직역:** 그녀는 매일 아침 책들을 읽는다.\n",
      "\n",
      "**자연스러운 프랑스어 표현:** \"Elle lit des livres tous les matins.\" (그녀는 매일 아침 책을 읽습니다.) 가 가장 자연스럽고 일반적인 표현입니다.\n",
      "번역 2: \"오늘 날씨가 참 좋네요.\"를 프랑스어로 번역하면 다음과 같습니다:\n",
      "\n",
      "**Aujourd'hui, il fait très beau.**\n",
      "\n",
      "**설명:**\n",
      "\n",
      "* **Aujourd'hui:** 오늘 (Today)\n",
      "* **il fait beau:** 날씨가 좋다 (The weather is nice/good).  프랑스어에서 날씨를 표현할 때 주로 \"faire\" 동사를 사용합니다. \"Beau\"는 \"아름다운\", \"좋은\"이라는 뜻으로 날씨를 묘사할 때 사용됩니다.\n",
      "* **très:**  참, 매우 (Very).  \"참\" 또는 \"정말\"의 강조 의미를 나타냅니다.\n",
      "\n",
      "**다른 표현 (뉘앙스 차이):**\n",
      "\n",
      "* **Aujourd'hui, il fait beau.:**  오늘 날씨가 좋네요. (가장 기본적인 표현)\n",
      "* **Aujourd'hui, il fait vraiment beau.:** 오늘 날씨가 정말 좋네요. (\"vraiment\"는 \"정말로\"라는 의미로 \"très\"보다 강조의 정도가 약간 더 강합니다.)\n",
      "* **Aujourd'hui, le temps est magnifique.:** 오늘 날씨가 정말 멋지네요. (\"magnifique\"는 \"magnificent\", \"멋진\" 이라는 의미로, 좀 더 감탄하는 뉘앙스를 나타냅니다.)\n",
      "* **Quel beau temps aujourd'hui !:** 오늘 날씨 정말 좋네요! (감탄문 형식으로, 더욱 감탄하는 느낌을 강조합니다.)\n",
      "\n",
      "\"Aujourd'hui, il fait très beau.\" 가 가장 자연스럽고 일반적인 표현이며, 한국어 문장의 의미를 잘 전달합니다.\n",
      "번역 3: \"저녁에 친구들과 영화를 볼거에요.\"를 프랑스어로 번역하면 다음과 같습니다:\n",
      "\n",
      "**Ce soir, je vais regarder un film avec des amis.**\n",
      "\n",
      "**설명:**\n",
      "\n",
      "* **Ce soir:** \"저녁에\"를 \"오늘 저녁\"이라는 의미로 강조하여 번역했습니다. \"Le soir\"라고 번역할 수도 있지만, \"Ce soir\"가 좀 더 구체적인 계획을 나타내는 뉘앙스를 전달합니다.\n",
      "* **je vais regarder:** \"볼거에요\"는 미래 시제를 나타내며, 프랑스어에서는 \"aller + 동사 원형\" 형태의 근접 미래 시제인 \"je vais regarder\"를 사용하여 자연스럽게 표현했습니다.\n",
      "* **un film:** \"영화를\"은 \"a movie\"라는 의미로, 프랑스어에서는 일반적으로 \"un film\"이라고 표현합니다.\n",
      "* **avec des amis:** \"친구들과\"는 \"with friends\"라는 의미로, 프랑스어에서는 \"avec des amis\"라고 정확하게 번역됩니다.\n",
      "\n",
      "**다른 가능한 번역 (뉘앙스 차이):**\n",
      "\n",
      "* **Le soir, je vais regarder un film avec des amis.** (저녁에, 친구들과 영화를 볼거에요.) - \"Ce soir\"보다 일반적인 \"저녁\"을 나타내는 표현입니다.\n",
      "* **Ce soir, on va regarder un film avec des amis.** (오늘 저녁에, 우리 친구들과 영화 볼거야.) - \"je\" 대신 비인칭 주어 \"on\"을 사용하여 좀 더 캐주얼하고 \"우리\"라는 뉘앙스를 더할 수 있습니다.\n",
      "\n",
      "**가장 자연스러운 번역은 \"Ce soir, je vais regarder un film avec des amis.\" 입니다.**\n",
      "번역 4: \"그 학생은 매우 성실하게 공부합니다.\"를 프랑스어로 번역하면 다음과 같습니다.\n",
      "\n",
      "**Cet étudiant étudie très sérieusement.**\n",
      "\n",
      "**각 부분별 설명:**\n",
      "\n",
      "* **그 학생은 (Geu haksaengeun):**  \"그 학생\"은 \"그\" (geu - 그/저/이 중 '그') + \"학생\" (haksaeng - 학생)으로 이루어져 \"그 학생\" 또는 \"저 학생\"을 의미합니다. 문맥에 따라 \"The student\" 또는 \"That student\"로 해석될 수 있습니다. 프랑스어로는 \"Cet étudiant\" (남성 명사 학생) 또는 \"Cette étudiante\" (여성 명사 학생)로 번역됩니다. 여기서는 일반적인 경우를 가정하여 남성형인 \"Cet étudiant\"를 사용했습니다.  \"Cet\"은 남성 단수 명사 앞에서 모음이나 무음 h로 시작하는 명사 앞에 오는 지시 형용사입니다.\n",
      "\n",
      "* **매우 성실하게 (Maeu seongsilhage):** \"매우\"는 \"very\"라는 뜻이고, \"성실하게\"는 \"diligently\", \"conscientiously\", \"seriously\" 등의 의미를 가집니다. 프랑스어로는 \"très sérieusement\"가 가장 적절한 번역입니다. \"très\"는 \"very\"를, \"sérieusement\"는 \"seriously\" 또는 \"conscientiously\"를 의미합니다.  \"diligemment\"도 \"성실하게\"의 뜻으로 사용될 수 있지만, \"sérieusement\"가 문맥상 더 자연스럽고 일반적인 표현입니다.\n",
      "\n",
      "* **공부합니다 (Gongbuhamnida):** \"공부하다\"는 \"to study\"라는 동사이고, \"-ㅂ니다\"는 한국어의 공손한 말투의 종결 어미입니다. 프랑스어로는 \"étudier\"가 \"to study\"에 해당하며, 3인칭 단수 현재형으로 변환하여 \"étudie\"가 됩니다.\n",
      "\n",
      "**따라서 전체 문장은 \"Cet étudiant étudie très sérieusement.\"가 되며, 이는 \"그 학생은 매우 성실하게 공부합니다.\"를 자연스럽고 정확하게 번역한 것입니다.**\n",
      "번역 5: 다음은 몇 가지 프랑스어 번역입니다. 문맥과 뉘앙스에 따라 적절한 것을 선택하여 사용하시면 됩니다.\n",
      "\n",
      "**1. 가장 일반적인 표현:**\n",
      "\n",
      "> **J'ai vraiment besoin d'un café maintenant.**\n",
      "\n",
      "* \"J'ai besoin de...\" 는 \"~가 필요하다\" 라는 뜻으로, 가장 기본적인 필요를 표현하는 문장입니다.\n",
      "* \"vraiment\" 는 \"정말로, 정말로\" 라는 뜻으로, 필요의 정도를 강조합니다. 한국어의 \"딱\" 이 주는 뉘앙스와 비슷하게, 지금 커피가 **정말로** 필요하다는 느낌을 살려줍니다.\n",
      "* \"maintenant\" 는 \"지금\" 이라는 뜻입니다.\n",
      "\n",
      "**2. 조금 더 강조된 표현:**\n",
      "\n",
      "> **Il me faut un café tout de suite.**\n",
      "\n",
      "* \"Il me faut...\" 는 \"나는 ~가 필요하다\" 라는 뜻으로, \"J'ai besoin de...\" 보다 조금 더 강하고 필수적인 느낌을 줍니다. 마치 \"반드시 ~해야 한다\" 와 비슷한 뉘앙스를 줍니다.\n",
      "* \"tout de suite\" 는 \"바로 지금, 즉시\" 라는 뜻으로, \"maintenant\" 보다 더 즉각적인 필요성을 강조합니다. \"딱\" 이 주는 \"바로 지금!\" 이라는 느낌을 더 강하게 표현합니다.\n",
      "\n",
      "**3. 좀 더 자연스러운 표현:**\n",
      "\n",
      "> **Un café, ça me ferait du bien là, tout de suite.**\n",
      "\n",
      "* \"Un café, ça me ferait du bien...\" 는 \"커피 한 잔이면 좋을 텐데...\" 라는 느낌으로, 좀 더 편안하고 자연스러운 표현입니다.\n",
      "* \"là\" 는 \"여기, 지금\" 등의 의미로, 문맥에 따라 \"지금\" 이라는 뉘앙스를 더합니다.\n",
      "* \"tout de suite\" 는 위와 같이 \"바로 지금\" 이라는 뜻으로, 즉각적인 필요성을 강조합니다.\n",
      "\n",
      "**4. 좀 더 구어적인 표현:**\n",
      "\n",
      "> **J'aurais bien besoin d'un café, là, maintenant.**\n",
      "\n",
      "* \"J'aurais bien besoin de...\" 는 \"나는 ~가 정말 필요할 텐데...\" 라는 가정법 과거를 사용해서, 좀 더 부드럽고 구어적인 느낌을 줍니다.\n",
      "* \"là\" 와 \"maintenant\" 를 함께 사용하여 \"바로 지금\" 이라는 뉘앙스를 강조합니다.\n",
      "\n",
      "**선택 팁:**\n",
      "\n",
      "* **가장 무난하고 일반적인 표현:**  **J'ai vraiment besoin d'un café maintenant.**\n",
      "* **지금 당장! 이라는 뉘앙스를 강조하고 싶을 때:** **Il me faut un café tout de suite.**\n",
      "* **좀 더 자연스럽고 편안하게 말하고 싶을 때:** **Un café, ça me ferait du bien là, tout de suite.** 또는 **J'aurais bien besoin d'un café, là, maintenant.**\n",
      "\n",
      "원하시는 뉘앙스와 상황에 맞춰 위 표현들 중 하나를 선택하여 사용하시면 됩니다.\n",
      "11.480146884918213\n"
     ]
    }
   ],
   "source": [
    "# 여러 개 API 요청하고 받는 batch()\n",
    "# 랭체인을 RAG외 다양한 서비스 접목하거나 자연어 처리를 위해 사용될 수 있다.\n",
    "# 예를 들어 번역 작업을 할 때 여러 입력 값과 출력 값을 한 번에 얻고 싶다면 병렬 실행 기능이 필요한데, LCEL의 batch()를 활용한다. \n",
    "# 여러 개의 한글 문장을 불어 문장으로 번역하는 작업을 batch()로 한꺼번에 수행하는 코드 / 1개의 문장 번역 작업과 5개의 문장 번역 작업의 수행 시간 비교\n",
    "\n",
    "# 5개의 문장 번역 batch()\n",
    "\n",
    "import time \n",
    "\n",
    "start = time.time()\n",
    "model = ChatGoogleGenerativeAI(model=\"gemini-2.0-flash-thinking-exp-01-21\", api_key=api_key)\n",
    "prompt = ChatPromptTemplate.from_template(\"다음 한글 문장을 프랑스어로 번역해줘{sentence}\")\n",
    "chain = prompt | model \n",
    "\n",
    "results = chain.batch([\n",
    "    {\"sentence\" : \"그녀는 매일 아침 책을 읽습니다.\"},\n",
    "    {\"sentence\" : \"오늘 날씨가 참 좋네요.\"},\n",
    "    {\"sentence\" : \"저녁에 친구들과 영화를 볼거에요.\"},\n",
    "    {\"sentence\" : \"그 학생은 매우 성실하게 공부합니다.\"},\n",
    "    {\"sentence\" : \"커피 한 잔이 지금 딱 필요해요.\"}\n",
    "])\n",
    "end = time.time()\n",
    "\n",
    "for i, result in enumerate(results):\n",
    "    print(f\"번역 {i+1}: {result.content}\")\n",
    "    \n",
    "duration = end - start\n",
    "print(duration)"
   ]
  },
  {
   "cell_type": "code",
   "execution_count": 8,
   "metadata": {},
   "outputs": [
    {
     "name": "stdout",
     "output_type": "stream",
     "text": [
      "7.74027156829834\n",
      "content='\"Elle lit un livre tous les matins.\"\\n\\n**설명:**\\n\\n* **Elle:**  \"그녀는\" (geunyeoneun) 에 해당하는 프랑스어 인칭 대명사 \"she\" 입니다.\\n* **lit:** \"읽습니다\" (ilkseumnida) 에 해당하는 \"lire\" (읽다) 동사의 현재 시제 3인칭 단수 형태입니다.\\n* **un livre:** \"책을\" (chaegeul) 에 해당하는 \"a book\" 입니다.  \"livre\" 는 \"책\" 이라는 명사이고, \"un\" 은 남성 단수 명사 앞에 붙는 부정관사 \"a\" 입니다.  여기서는 특정 책이 아닌 일반적인 책을 읽는다는 의미이므로 부정관사를 사용했습니다.\\n* **tous les matins:** \"매일 아침\" (maeil achim) 에 해당하는 \"every morning\" 입니다. \"tous les\" 는 \"every\" 또는 \"all\" 이라는 의미이고, \"matins\" 는 \"아침\" 이라는 명사 \"matin\" 의 복수 형태입니다.  매일 아침이라는 반복적인 행위를 나타내기 위해 복수 형태를 사용했습니다.\\n\\n**다른 가능한 번역 (뉘앙스 차이):**\\n\\n* **Elle lit des livres tous les matins.** (책을 *여러 권* 읽는다는 뉘앙스가 강조될 수 있습니다. 복수 명사 \"livres\" 와 복수 부정관사 \"des\" 를 사용했습니다.)\\n* **Elle lit le livre tous les matins.** (만약 특정 책을 매일 읽는다는 의미라면 \"le livre\" 라고 표현할 수 있습니다. 정관사 \"le\" 는 \"the\" 에 해당합니다.)\\n* **Chaque matin, elle lit un livre.** (시간 표현 \"Chaque matin\" (매일 아침) 을 문장 맨 앞에 놓아 강조할 수 있습니다.)\\n\\n하지만 가장 일반적이고 자연스러운 번역은 **\"Elle lit un livre tous les matins.\"** 입니다.' additional_kwargs={} response_metadata={'prompt_feedback': {'block_reason': 0, 'safety_ratings': []}, 'finish_reason': 'STOP', 'safety_ratings': []} id='run-f1e603a9-f46f-4701-ae84-90277e82369e-0' usage_metadata={'input_tokens': 29, 'output_tokens': 437, 'total_tokens': 466, 'input_token_details': {'cache_read': 0}}\n"
     ]
    }
   ],
   "source": [
    "# 1개의 문장 번역\n",
    "\n",
    "import time \n",
    "\n",
    "start = time.time()\n",
    "model = ChatGoogleGenerativeAI(model=\"gemini-2.0-flash-thinking-exp-01-21\", api_key=api_key)\n",
    "prompt = ChatPromptTemplate.from_template(\"다음 한글 문장을 프랑스어로 번역해줘{sentence}\")\n",
    "chain = prompt | model \n",
    "\n",
    "result = chain.invoke({\"sentence\" : \"그녀는 매일 아침 책을 읽습니다.\"})\n",
    "end = time.time()\n",
    "\n",
    "duration = end - start\n",
    "print(duration)\n",
    "print(result)"
   ]
  },
  {
   "cell_type": "code",
   "execution_count": null,
   "metadata": {},
   "outputs": [],
   "source": []
  }
 ],
 "metadata": {
  "kernelspec": {
   "display_name": "Python 3",
   "language": "python",
   "name": "python3"
  },
  "language_info": {
   "codemirror_mode": {
    "name": "ipython",
    "version": 3
   },
   "file_extension": ".py",
   "mimetype": "text/x-python",
   "name": "python",
   "nbconvert_exporter": "python",
   "pygments_lexer": "ipython3",
   "version": "3.11.5"
  }
 },
 "nbformat": 4,
 "nbformat_minor": 2
}
