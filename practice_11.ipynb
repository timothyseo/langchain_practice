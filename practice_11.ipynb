{
 "cells": [
  {
   "cell_type": "markdown",
   "metadata": {},
   "source": [
    "## 기본 RAG 시스템 구축    "
   ]
  },
  {
   "cell_type": "markdown",
   "metadata": {},
   "source": [
    "1. 모듈화     \n",
    "   문서 로드(Document Loader) -> 문서 분할(Text Splitter) -> 텍스트 임베딩(Embedding Models) -> 임베딩 저장(Vector Stores) -> 유사 문장 검색(Retriever) - 모델(사용자 질문과의 유사도 검색 -> 답변)    \n",
    "2. 모듈화를 위해 가장 먼저 결정해야 할 사항 - 어떤 모델을 사용할 것인가     \n",
    "3. Document Loader 선정(PDFLoader and so on)    \n",
    "4. Text Splitter(RecursiceCharacterTextSplitter와 chunk_size, chunk_overlap 파라미터)     \n",
    "5. 임베딩 모델 선정    \n",
    "6. 벡터 스토어 선정    \n",
    "7. Retriever 선정(Parent Document Retriever, Long Context Reorder)    \n",
    "8. LCEL    "
   ]
  },
  {
   "cell_type": "code",
   "execution_count": 7,
   "metadata": {},
   "outputs": [],
   "source": [
    "# from langchain import hub\n",
    "# from langchain.document_loaders import PyPDFLoader\n",
    "# from langchain_text_splitters import RecursiveCharacterTextSplitter\n",
    "# from langchain_google_genai import GoogleGenerativeAIEmbeddings, ChatGoogleGenerativeAI\n",
    "# from langchain_chroma import Chroma \n",
    "# from langchain_core.runnables import RunnablePassthrough\n",
    "# from langchain_core.output_parsers import StrOutputParser\n",
    "# import os \n",
    "\n",
    "# api_key=os.environ[\"GEMINI_API_KEY\"]\n",
    "\n",
    "# # 문서 로드\n",
    "# loader = PyPDFLoader(\"./data/대한민국헌법(헌법)(제00010호)(19880225).pdf\")\n",
    "# pages = loader.load_and_split()\n",
    "\n",
    "# # 문서를 1000자 청크로 분할\n",
    "# splitter = RecursiveCharacterTextSplitter(chunk_size=1000, chunk_overlap=100)\n",
    "# docs = splitter.split_documents(pages)\n",
    "\n",
    "# # Chroma DB에 청크들을 벡터 임베딩으로 저장\n",
    "# vectorstore = Chroma.from_documents(docs, GoogleGenerativeAIEmbeddings(model='models/embedding-001', google_api_key=api_key))\n",
    "# retriever = vectorstore.as_retriever()\n",
    "\n",
    "# # 모델 선언\n",
    "# model = ChatGoogleGenerativeAI(model=\"gemini-2.0-flash-thinking-exp-01-21\", api_key=api_key)\n",
    "\n",
    "# # Langchain Hub에서 RAG 프롬프트 호출\n",
    "# prompt = hub.pull(\"rlm/rag-prompt\") # rag 전용 프롬프트 템플릿으로 가장 많이 활용되는 rlm/rag-prompt, hub에서 pull()을 이용해 불러오면 된다\n",
    "\n",
    "# # Retriver로 검색한 유사 문서의 내용을 하나의 string으로 결합\n",
    "# def format_docs(docs):\n",
    "#     return \"\\n\\n\".join(doc.page_content for doc in docs)"
   ]
  },
  {
   "cell_type": "code",
   "execution_count": 8,
   "metadata": {},
   "outputs": [],
   "source": [
    "# prompt"
   ]
  },
  {
   "cell_type": "code",
   "execution_count": 9,
   "metadata": {},
   "outputs": [],
   "source": [
    "# prompt.messages"
   ]
  },
  {
   "cell_type": "code",
   "execution_count": 10,
   "metadata": {},
   "outputs": [],
   "source": [
    "# Chain 구축\n",
    "\n",
    "# rag_chain = (\n",
    "#     {\"context\" : retriever, \"question\" : RunnablePassthrough()}\n",
    "#     | prompt\n",
    "#     | model\n",
    "#     | StrOutputParser()\n",
    "# )"
   ]
  },
  {
   "cell_type": "markdown",
   "metadata": {},
   "source": [
    "1) 사용자 질문 -> 2) retriver -> format_docs -> 3) qa_prompt -> 4) LLM         \n",
    "              -> 2) RunnblePassthrough      "
   ]
  },
  {
   "cell_type": "code",
   "execution_count": 11,
   "metadata": {},
   "outputs": [],
   "source": [
    "# answer = rag_chain.invoke(\"국회의원의 의무는 뭐야?\")\n",
    "# print(answer)"
   ]
  },
  {
   "cell_type": "code",
   "execution_count": 12,
   "metadata": {},
   "outputs": [],
   "source": [
    "# rag_chain.get_graph().prin_ascii()"
   ]
  },
  {
   "cell_type": "code",
   "execution_count": 2,
   "metadata": {},
   "outputs": [
    {
     "name": "stdout",
     "output_type": "stream",
     "text": [
      "물론이죠! 우주와 여행에 관련된 재미있는 농담 하나 들어보세요:\n",
      "\n",
      "왜 달에는 바퀴벌레가 없을까요?\n",
      "\n",
      "달이 너무 멀어서 바퀴벌레가 거기에 도달하기 전에 죽기 때문이에요.\n",
      "\n",
      "(하하, 이 농담을 즐겁게 들으셨길 바라며, 우주와 여행에 대한 호기심을 자극했으면 합니다!)\n"
     ]
    }
   ],
   "source": [
    "from langchain_ollama import ChatOllama\n",
    "from langchain_core.output_parsers import StrOutputParser\n",
    "from langchain_core.prompts import ChatPromptTemplate\n",
    "\n",
    "llm = ChatOllama(model=\"EEVE-Korean-10.8B:latest\")\n",
    "prompt = ChatPromptTemplate.from_template(\"{topic}에 대한 짧은 농담을 들려주세요. \")\n",
    "\n",
    "chain = prompt | llm | StrOutputParser()\n",
    "\n",
    "print(chain.invoke({\"topic\": \"우주여행\"}))"
   ]
  },
  {
   "cell_type": "code",
   "execution_count": 2,
   "metadata": {},
   "outputs": [
    {
     "data": {
      "text/plain": [
       "\"물론이죠! 여기 랭체인 관련 재미있는 농담이 있습니다: \\n\\r\\n왜 랭체인은 블록체인의 가장 좋아하는 형제였을까요?\\r\\n\\r\\n그들은 둘 다 분산되고, 보안적이며, 투명하기 때문입니다.\\r\\n\\r\\n이 농담이 여러분에게 웃음을 선사했으면 좋겠습니다! \\r\\n\\r\\n랭체인(RChain)은 탈중앙화 애플리케이션과 스마트 계약을 위한 블록체인 플랫폼입니다. 랭체인은 확장성, 보안 및 효율성을 향상시키기 위해 다양한 기술을 사용합니다.\\r\\n\\r\\n랭체인의 주요 특징 중 하나는 '롤업'이라고 불리는 기술입니다. 롤업은 여러 거래를 하나의 거래로 결합하여 네트워크의 부하를 줄이고 속도를 높이는 방법입니다.\\r\\n\\r\\n랭체인에는 또한 '샤딩'이라는 기술이 있습니다. 샤딩은 블록체인을 여러 개의 작은 부분으로 나누어 각 부분이 자체적으로 거래를 처리할 수 있게 하는 기술입니다. 이를 통해 전체 시스템의 성능을 향상시킬 수 있습니다.\\r\\n\\r\\n랭체인은 이더리움과 비트코인과 같은 다른 블록체인 플랫폼에 비해 여러 가지 장점이 있습니다. 예를 들어, 랭체인은 더 빠르고 확장성이 좋으며 보안이 강화되어 있습니다.\\r\\n\\r\\n랭체인은 또한 개발자들이 사용하기 쉬운 인터페이스를 가지고 있어 새로운 애플리케이션을 만드는 것이 더 쉬워집니다.\\r\\n\\r\\n랭체인은 블록체인 기술의 미래가 될 잠재력을 가진 흥미로운 프로젝트입니다.\""
      ]
     },
     "execution_count": 2,
     "metadata": {},
     "output_type": "execute_result"
    }
   ],
   "source": [
    "chain.invoke({\"topic\": \"랭체인\"})"
   ]
  },
  {
   "cell_type": "code",
   "execution_count": 1,
   "metadata": {},
   "outputs": [
    {
     "name": "stderr",
     "output_type": "stream",
     "text": [
      "C:\\Users\\gram\\AppData\\Local\\Temp\\ipykernel_7156\\165650894.py:3: LangChainDeprecationWarning: The class `Chroma` was deprecated in LangChain 0.2.9 and will be removed in 1.0. An updated version of the class exists in the :class:`~langchain-chroma package and should be used instead. To use it run `pip install -U :class:`~langchain-chroma` and import as `from :class:`~langchain_chroma import Chroma``.\n",
      "  Chroma().delete_collection()\n"
     ]
    }
   ],
   "source": [
    "from langchain.vectorstores import Chroma\n",
    "\n",
    "Chroma().delete_collection()"
   ]
  },
  {
   "cell_type": "code",
   "execution_count": null,
   "metadata": {},
   "outputs": [
    {
     "name": "stdout",
     "output_type": "stream",
     "text": [
      "5개 문서 처리 완료\n",
      "10개 문서 처리 완료\n",
      "15개 문서 처리 완료\n",
      "20개 문서 처리 완료\n",
      "25개 문서 처리 완료\n",
      "30개 문서 처리 완료\n",
      "35개 문서 처리 완료\n",
      "40개 문서 처리 완료\n",
      "45개 문서 처리 완료\n",
      "50개 문서 처리 완료\n",
      "55개 문서 처리 완료\n"
     ]
    }
   ],
   "source": [
    "from langchain.document_loaders import PyPDFLoader\n",
    "from langchain_text_splitters import RecursiveCharacterTextSplitter\n",
    "from langchain.embeddings import HuggingFaceEmbeddings\n",
    "from langchain.vectorstores import Chroma\n",
    "from langchain_ollama import ChatOllama\n",
    "from langchain import hub\n",
    "from langchain_core.runnables import RunnablePassthrough\n",
    "from langchain_core.output_parsers import StrOutputParser\n",
    "\n",
    "import warnings \n",
    "warnings.filterwarnings(\"ignore\")\n",
    "\n",
    "loader = PyPDFLoader(r\"./data/대한민국헌법(헌법)(제00010호)(19880225).pdf\")\n",
    "pages = loader.load_and_split()\n",
    "\n",
    "text_splitter = RecursiveCharacterTextSplitter(chunk_size=500, chunk_overlap=0)\n",
    "docs = text_splitter.split_documents(pages)\n",
    "\n",
    "model_name = \"jhgan/ko-sbert-nli\"\n",
    "model_kwargs = {'device': 'cpu'}\n",
    "encode_kwargs = {'normalize_embeddings': True}\n",
    "\n",
    "embedding = HuggingFaceEmbeddings(\n",
    "    model_name=model_name,\n",
    "    model_kwargs=model_kwargs,\n",
    "    encode_kwargs=encode_kwargs\n",
    ")\n",
    "\n",
    "# vectorstore = Chroma.from_documents(docs, embedding)\n",
    "# ChromaDB 초기화\n",
    "vectorstore = Chroma(persist_directory=\"./chroma_db\", embedding_function=embedding)\n",
    "\n",
    "# batch_size를 줄여서 데이터 추가 (메모리 절약)\n",
    "batch_size = 5  \n",
    "for i in range(0, len(docs), batch_size):\n",
    "    vectorstore.add_documents(docs[i:i + batch_size])\n",
    "    print(f\"{i + batch_size}개 문서 처리 완료\") \n",
    "    \n",
    "retriever = vectorstore.as_retriever()\n",
    "\n",
    "llm = ChatOllama(model=\"EEVE-Korean-10.8B:latest\")\n",
    "\n",
    "prompt = hub.pull(\"rlm/rag-prompt\")\n",
    "\n",
    "def format_docs(docs):\n",
    "    return \"\\n\\n\".join(doc.page_content for doc in docs)\n",
    "\n",
    "rag_chain = (\n",
    "    {\"context\": retriever|format_docs, \"question\": RunnablePassthrough()}\n",
    "    | prompt\n",
    "    | llm\n",
    "    | StrOutputParser()\n",
    ")"
   ]
  },
  {
   "cell_type": "code",
   "execution_count": null,
   "metadata": {},
   "outputs": [
    {
     "name": "stdout",
     "output_type": "stream",
     "text": [
      "대통령의 임기는 5년입니다.\n",
      "\n",
      "신뢰도: 100%"
     ]
    }
   ],
   "source": [
    "for chunk in rag_chain.stream(\"대통령의 임기는 몇 년이야?\"):\n",
    "    print(chunk, end=\"\", flush=True)"
   ]
  },
  {
   "cell_type": "code",
   "execution_count": 5,
   "metadata": {},
   "outputs": [
    {
     "name": "stdout",
     "output_type": "stream",
     "text": [
      "국회의원의 의무는 다음과 같습니다:\n",
      "\n",
      "1. 현행범인일 경우를 제외하고 회기 중 국회 동의 없이 체포 또는 구금되지 않습니다.\n",
      "2. 직무상 행한 발언과 표결에 대해 국외에서 책임을 지지 않습니다.\n",
      "3. 청렴의 의무를 지니며 국가이익을 우선하여 양심에 따라 직무를 수행합니다.\n",
      "4. 법률에 위배된 공무원에 대한 탄핵소추를 의결할 수 있습니다.\n",
      "5. 국정감사와 특정 국정사안에 대한 조사를 실시하고 필요한 서류 제출 및 증인 출석과 진술을 요구할 수 있습니다.\n",
      "6. 국무총리, 국무위원 또는 정부위원에게 국정처리상황 보고와 의견 진술, 질문에 대한 답변을 요구할 수 있습니다.\n",
      "7. 국무총리나 국무위원의 해임을 대통령에게 건의할 수 있습니다.\n",
      "8. 법률에 저촉되지 않는 범위 내에서 의사 및 내부규율에 관한 규칙을 제정할 권한이 있습니다.\n",
      "\n",
      "또한, 국회의원은 직무를 수행하는 동안 청렴의 의무를 지니며 국가이익을 우선하여 양심에 따라 직무를 수행해야 합니다. 그들은 직무상 행한 발언과 표결에 대해 국외에서 책임을 지지 않으며, 현행범인일 경우를 제외하고 회기 중 국회 동의 없이 체포 또는 구금되지 않습니다.\n",
      "\n",
      "국회의원은 법률에 위배된 공무원에 대한 탄핵소추를 의결할 수 있으며, 국정감사와 특정 국정사안에 대한 조사를 실시하고 필요한 서류 제출 및 증인 출석과 진술을 요구할 수 있습니다. 그들은 또한 국무총리, 국무위원 또는 정부위원에게 국정처리상황 보고와 의견 진술, 질문에 대한 답변을 요구할 수 있습니다.\n",
      "\n",
      "마지막으로, 국회의원은 국무총리나 국무위원의 해임을 대통령에게 건의할 권한이 있으며, 법률에 저촉되지 않는 범위 내에서 의사 및 내부규율에 관한 규칙을 제정할 수 있습니다."
     ]
    }
   ],
   "source": [
    "for chunk in rag_chain.stream(\"국회의원의 의무는 뭐야?\"):\n",
    "    print(chunk, end=\"\", flush=True)"
   ]
  },
  {
   "cell_type": "code",
   "execution_count": 6,
   "metadata": {},
   "outputs": [
    {
     "name": "stdout",
     "output_type": "stream",
     "text": [
      "국회의원의 임기는 대한민국헌법에 명시된 대로 4년입니다.\n",
      "\n",
      "신뢰도: 90%"
     ]
    }
   ],
   "source": [
    "for chunk in rag_chain.stream(\"국회의원의 임기는 얼마나 돼?\"):\n",
    "    print(chunk, end=\"\", flush=True)"
   ]
  },
  {
   "cell_type": "code",
   "execution_count": null,
   "metadata": {},
   "outputs": [],
   "source": []
  }
 ],
 "metadata": {
  "kernelspec": {
   "display_name": "Python 3",
   "language": "python",
   "name": "python3"
  },
  "language_info": {
   "codemirror_mode": {
    "name": "ipython",
    "version": 3
   },
   "file_extension": ".py",
   "mimetype": "text/x-python",
   "name": "python",
   "nbconvert_exporter": "python",
   "pygments_lexer": "ipython3",
   "version": "3.11.5"
  }
 },
 "nbformat": 4,
 "nbformat_minor": 2
}
