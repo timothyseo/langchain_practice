{
 "cells": [
  {
   "cell_type": "markdown",
   "metadata": {},
   "source": [
    "## 여러 형태의 파일을 Document로 불러오기"
   ]
  },
  {
   "cell_type": "markdown",
   "metadata": {},
   "source": [
    "PDF 뿐 아니라 워드, 엑셀, 파워포인트 같은 여러 형태의 파일 불러오기"
   ]
  },
  {
   "cell_type": "code",
   "execution_count": null,
   "metadata": {},
   "outputs": [
    {
     "name": "stdout",
     "output_type": "stream",
     "text": [
      "2011.09.01\t'갤럭시 노트' 공개\n",
      "\n",
      "\t2012.04.01\tLCD사업부 분사(삼성디스플레이㈜ 설립)\n",
      "\n",
      "\t2013.06.26\t'갤럭시 S4 LTE-A' LTE-A 스마트폰 출시\n",
      "\n",
      "\t2013.08.06\t'3D V-NAND' 3차원 수직구조 낸드플래시 메모리 양산\n",
      "\n",
      "\t2013.09.24\t'아이소셀(ISOCELL)' 차세대 CMOS 이미지센서 개발\n",
      "\n",
      "\t2017.03.05\t'QLED TV' 진화된 퀀텀닷 기술 적용 TV 출시\n",
      "\n",
      "\t2017.03.10\t전장 기업 Harman International Industries, Inc.사(100%) 지분 인수 2017.07.04\t세계 최대 규모 평택 반도체 라인 가동\n",
      "\n",
      "\t2017.11.01\t프린팅솔루션 사업 매각\n",
      "\n",
      "\t2018.08.30\t'QLED 8K TV' 퀀텀닷 기술과 8K 해상도 적용 TV 출시\n",
      "\n",
      "\t2018.11.07\t'폴더블 디스플레이' 삼성 개발자 컨퍼런스에서 공개\n",
      "\n",
      "\t2019.04.03\t'갤럭시 S10 5G' 5G 스마트폰 출시\n",
      "\n",
      "\t20\n"
     ]
    }
   ],
   "source": [
    "# word 파일 불러오기 Docx2txtLoader\n",
    "\n",
    "# Docx2txtLoader 불러오기 \n",
    "from langchain.document_loaders import Docx2txtLoader\n",
    "\n",
    "# Docx2txtLoader로 파일 불러오기 \n",
    "loader = Docx2txtLoader(\"./data/[삼성전자] 사업보고서(일반법인) (2021.03.09).docx\")\n",
    "\n",
    "# 페이지로 분할하여 불러오기\n",
    "data = loader.load_and_split()\n",
    "\n",
    "# 첫번째 페이지 출력하기\n",
    "print(data[12].page_content[:500]) # 12페이지의 500자까지만 출력력"
   ]
  },
  {
   "cell_type": "code",
   "execution_count": 12,
   "metadata": {},
   "outputs": [
    {
     "name": "stdout",
     "output_type": "stream",
     "text": [
      "{'source': './data/[삼성전자] 사업보고서(일반법인) (2021.03.09).docx'}\n"
     ]
    }
   ],
   "source": [
    "print(data[12].metadata)"
   ]
  },
  {
   "cell_type": "markdown",
   "metadata": {},
   "source": [
    "source를 키값, 파일의 경로를 value값으로 하는 딕셔너리 형태의 메타데이터"
   ]
  },
  {
   "cell_type": "code",
   "execution_count": 14,
   "metadata": {},
   "outputs": [
    {
     "data": {
      "text/plain": [
       "Document(metadata={'source': './data/mlb_teams_2012.csv', 'row': 0}, page_content='Team: Nationals\\n\"Payroll (millions)\": 81.34\\n\"Wins\": 98')"
      ]
     },
     "execution_count": 14,
     "metadata": {},
     "output_type": "execute_result"
    }
   ],
   "source": [
    "# csv 파일 불러오기, csv_loader\n",
    "\n",
    "from langchain.document_loaders import CSVLoader\n",
    "\n",
    "loader = CSVLoader(\"./data/mlb_teams_2012.csv\")\n",
    "\n",
    "data_mlb = loader.load()\n",
    "\n",
    "data_mlb[0]"
   ]
  },
  {
   "cell_type": "code",
   "execution_count": null,
   "metadata": {},
   "outputs": [
    {
     "name": "stderr",
     "output_type": "stream",
     "text": [
      "[nltk_data] Downloading package punkt to\n",
      "[nltk_data]     C:\\Users\\gram\\AppData\\Roaming\\nltk_data...\n",
      "[nltk_data]   Package punkt is already up-to-date!\n",
      "[nltk_data] Downloading package averaged_perceptron_tagger to\n",
      "[nltk_data]     C:\\Users\\gram\\AppData\\Roaming\\nltk_data...\n"
     ]
    },
    {
     "name": "stdout",
     "output_type": "stream",
     "text": [
      "3.8.1\n"
     ]
    },
    {
     "name": "stderr",
     "output_type": "stream",
     "text": [
      "[nltk_data]   Unzipping taggers\\averaged_perceptron_tagger.zip.\n"
     ]
    }
   ],
   "source": [
    "import nltk \n",
    "\n",
    "# nltk.download('punkt')\n",
    "# nltk.download('averaged_perceptron_tagger')\n",
    "\n",
    "print(nltk.__version__)"
   ]
  },
  {
   "cell_type": "code",
   "execution_count": 26,
   "metadata": {},
   "outputs": [
    {
     "data": {
      "text/plain": [
       "Document(metadata={'source': './data/Copilot-scenarios-for-Marketing.pptx', 'category_depth': 0, 'file_directory': './data', 'filename': 'Copilot-scenarios-for-Marketing.pptx', 'last_modified': '2025-02-27T10:48:30', 'page_number': 2, 'languages': ['eng'], 'filetype': 'application/vnd.openxmlformats-officedocument.presentationml.presentation', 'category': 'Title', 'element_id': '37991e0f3ff36db43b1ba8379a3657de'}, page_content='Copilot scenarios for\\x0bMarketing')"
      ]
     },
     "execution_count": 26,
     "metadata": {},
     "output_type": "execute_result"
    }
   ],
   "source": [
    "# ppt 파일 불러오기, UnstructuredPowerPointLoader \n",
    "# ppt 파일의 경우, 단순히 텍스트를 추출하여 RAG에 사용하기 까다롭다. 슬라이드를 구성하는 텍스트의 구조를 담아내야 하기 때문이다.\n",
    "# 따라서 PPT 파일은 로드할 때 metadata를 적절히 활용해야 한다. \n",
    "\n",
    "from langchain.document_loaders import UnstructuredPowerPointLoader\n",
    "\n",
    "# mode=elements를 통해 pptx의 요소별로 Document 객체로 가져오기\n",
    "loader = UnstructuredPowerPointLoader(\"./data/Copilot-scenarios-for-Marketing.pptx\", mode=\"elements\")\n",
    "\n",
    "# pptx 파일 분할 로드하기\n",
    "data = loader.load_and_split()\n",
    "\n",
    "data[1]"
   ]
  },
  {
   "cell_type": "code",
   "execution_count": 27,
   "metadata": {},
   "outputs": [
    {
     "name": "stdout",
     "output_type": "stream",
     "text": [
      "Title\n",
      "Copilot scenarios for\u000bMarketing\n",
      "\n",
      "\n",
      "Title\n",
      "Overview and KPIs\n",
      "\n",
      "\n",
      "Title\n",
      "Use Case by Role\n",
      "\n",
      "\n",
      "Title\n",
      "Day in the Life\n",
      "\n",
      "\n",
      "NarrativeText\n",
      "KPIs play a crucial role in organizations, providing a compass to navigate toward success. Let's dive into KPIs for Marketing and how Copilot can assist.\n",
      "\n",
      "\n",
      "NarrativeText\n",
      "Copilot can simplify the tasks that execs perform every day. Look at key use cases and how Copilot can be your AI assistant along the way.\n",
      "\n",
      "\n",
      "NarrativeText\n",
      "See how real-life marketers are using Copilot in their day to day.\n",
      "\n",
      "\n"
     ]
    }
   ],
   "source": [
    "for i in data:\n",
    "    if i.metadata['page_number'] == 2:\n",
    "        print(i.metadata['category'])\n",
    "        print(i.page_content)\n",
    "        print(\"\\n\")"
   ]
  },
  {
   "cell_type": "markdown",
   "metadata": {},
   "source": [
    "슬라이드 2쪽에 있는 요소들의 카테고리와 텍스트를 차례로 출력하는 예시를 보면 title과 narrativetext 구성 요소 별로 구분되어 출력됐다. "
   ]
  },
  {
   "cell_type": "code",
   "execution_count": 30,
   "metadata": {},
   "outputs": [
    {
     "data": {
      "text/plain": [
       "[Document(metadata={'source': 'https://www.espn.com', 'title': 'ESPN - Serving Sports Fans. Anytime. Anywhere.', 'description': 'Visit ESPN for live scores, highlights and sports news. Stream exclusive games on ESPN+ and play fantasy sports.', 'language': 'en'}, page_content='\\n\\n\\n\\n\\n\\n\\n\\n\\nESPN - Serving Sports Fans. Anytime. Anywhere.\\n\\n\\n\\n\\n\\n\\n\\n\\n\\n\\n\\n\\n\\n\\n\\n\\n\\n\\n\\n\\n\\n\\n\\n\\n\\n\\n\\n\\n\\n\\n\\n\\n\\n\\n\\n\\n\\n\\n\\n\\n\\n\\n\\n\\n\\n\\n\\n\\n\\n\\n\\n\\n\\n\\n\\n\\n\\n\\n\\n\\n\\n\\n\\n\\n\\n\\n\\n\\n\\n\\n\\n\\n\\n\\n\\n\\n\\n\\n\\n\\n\\n\\n\\n\\n\\n\\n\\n\\n\\n\\n\\n\\n        Skip to main content\\n    \\n\\n        Skip to navigation\\n    \\n\\n\\n\\n\\n\\n\\n\\n\\n\\n\\n\\n\\n\\n\\n\\n\\n\\n\\n\\n\\n\\n\\n\\n\\n\\n\\n\\n\\n\\n\\n\\n\\n\\n<\\n\\n>\\n\\n\\n\\n\\n\\n\\n\\n\\n\\nMenuESPN\\n\\n\\n\\n\\n\\nscores\\n\\n\\n\\nNFLNBANHLNCAAMNCAAWSoccerMLBMore SportsBoxingCFLNCAACricketF1GamingGolfHorseLLWSMMANASCARNLLNBA G LeagueNBA Summer LeagueNCAAFNWSLOlympicsPLLProfessional WrestlingRacingRN BBRN FBRugbySports BettingTennisWNBAX GamesUFLEditionsFantasyWatchESPN BETESPN+\\n\\n\\n\\n\\n\\n\\n\\n\\n\\n\\n\\n\\n\\n\\n\\n  \\n\\nSubscribe Now\\n\\n\\n\\n\\n\\nPGA TOUR LIVE\\n\\n\\n\\n\\n\\n\\n\\nNHL\\n\\n\\n\\n\\n\\n\\n\\nNCAA Men\\'s Basketball\\n\\n\\n\\n\\n\\n\\n\\nNCAA Women\\'s Basketball\\n\\n\\n\\n\\n\\n\\n\\nNCAA Softball\\n\\n\\nQuick Links\\n\\n\\n\\n\\nMen\\'s Tournament Challenge\\n\\n\\n\\n\\n\\n\\n\\nWomen\\'s Tournament Challenge\\n\\n\\n\\n\\n\\n\\n\\nNFL Draft\\n\\n\\n\\n\\n\\n\\n\\nUnrivaled 3-on-3\\n\\n\\n\\n\\n\\n\\n\\nMLB Free Agency\\n\\n\\n\\n\\n\\n\\n\\nMen\\'s Bracketology\\n\\n\\n\\n\\n\\n\\n\\nWomen\\'s Bracketology\\n\\n\\n\\n\\n\\n\\n\\nWhere To Watch\\n\\n\\n\\n\\n\\n\\n\\nToday\\'s Top Odds\\n\\n\\n\\n\\n\\n\\n\\nESPN Radio: Listen Live\\n\\n\\n\\n\\n\\n\\n\\nBuster Olney\\'s Top Players\\n\\n\\n\\n\\n\\n\\nFavorites\\n\\n\\n\\n\\n\\n\\n      Manage Favorites\\n      \\n\\n\\n\\nCustomize ESPNCreate AccountLog InFantasy\\n\\n\\n\\n\\nFootball\\n\\n\\n\\n\\n\\n\\n\\nBaseball\\n\\n\\n\\n\\n\\n\\n\\nHockey\\n\\n\\n\\n\\n\\n\\n\\nMen\\'s Basketball\\n\\n\\n\\n\\n\\n\\n\\nWomen\\'s Basketball\\n\\n\\nESPN Sites\\n\\n\\n\\n\\nESPN Deportes\\n\\n\\n\\n\\n\\n\\n\\nAndscape\\n\\n\\n\\n\\n\\n\\n\\nespnW\\n\\n\\n\\n\\n\\n\\n\\nESPNFC\\n\\n\\n\\n\\n\\n\\n\\nX Games\\n\\n\\n\\n\\n\\n\\n\\nSEC Network\\n\\n\\nESPN Apps\\n\\n\\n\\n\\nESPN\\n\\n\\n\\n\\n\\n\\n\\nESPN Fantasy\\n\\n\\n\\n\\n\\n\\n\\nTournament Challenge\\n\\n\\nFollow ESPN\\n\\n\\n\\n\\nFacebook\\n\\n\\n\\n\\n\\n\\n\\nX/Twitter\\n\\n\\n\\n\\n\\n\\n\\nInstagram\\n\\n\\n\\n\\n\\n\\n\\nSnapchat\\n\\n\\n\\n\\n\\n\\n\\nTikTok\\n\\n\\n\\n\\n\\n\\n\\nYouTube\\n\\n\\n\\n\\n\\n\\nAshlon Jackson\\'s deep triple beats third-quarter buzzerAshlon Jackson beats the third-quarter buzzer and clears Duke\\'s bench.2m0:19\\n\\n\\nReigan Richardson sinks a triple for DukeReigan Richardson knocks down a 3-pointer to extend Duke\\'s third-quarter lead.29m0:20\\n\\n\\nJadyn Donovan delivers incredible block for DukeJadyn Donovan delivers an incredible block in the paint for Duke.1h0:16\\n\\n\\nToby Fournier delivers spin-move layup for DukeToby Fournier makes a great spin move and lays it in for Duke.1h0:17\\n\\n\\nGrace Townsend finds Maria Gakdeng for UNC bucketGrace Townsend finds Maria Gakdeng in the paint for an easy North Carolina bucket.1h0:19\\n\\n\\n\\nTOP HEADLINESKelce plans to play in \\'25: \\'Can\\'t go out like that\\'Chiefs to franchise tag guard Smith, source saysPopovich visits Spurs, won\\'t return this seasonSource: Garrett not open to Browns extensionBucs to reinstate Jon Gruden into Ring of HonorBenintendi HBP, out 4-6 weeks with broken handEx-Twins ML catcher denies giving away pitchesGator vs. gator: Fearless Horschel shoos reptileNFL combine: Predicting who\\'ll dominateWHICH TEAMS ARE FINDING FORM?Women\\'s Power Rankings: Texas takes over the No. 1 spot, Notre Dame drops downAfter falling to NC State, Notre Dame drops down in the rankings as Texas rises to No. 1.2dMichael VoepelAP Photo/Erik RankBracketology: Will Notre Dame remain a No. 1 seed?Conference play is in full swing, and the sprint to March is on.3dCharlie CremeUSC replaces S. Carolina as No. 1 seed in revealWomen\\'s Champ Week: Tournament schedules and moreWOMEN\\'S COLLEGE HOOPS SCORES\\uf8ffüìÖ Complete women\\'s scoreboard‚¨Ü‚¨á Conference standingsMARCH ON OUR MINDSPredicting the 8 men‚Äôs basketball teams that could win it all -- by eliminating 356Our experts identified eight teams with the best chances to win it all through a process of elimination.12hJeff Borzello and Myron MedcalfAP Photo/Karen WarrenBubble wins don\\'t get much bigger than the one Arkansas pulled offAs Selection Sunday nears, let\\'s track which teams can play their way in or out of the NCAA tournament.4hNeil Paine‚û° Power Rankings: 1-seed race shakes up our top 25\\uf8ffüèÄ Bracketology: Don\\'t bet against Tom IzzoMen\\'s Champ Week: Tournament schedules and moreMEN\\'S COLLEGE HOOPS SCORES\\uf8ffüìÖ Complete men\\'s scoreboard‚¨Ü‚¨á Conference standingsTHROWDOWN THURSDAYNorth Texas\\' Brenen Lorient flushes windmill jam vs. former team13m0:32Is LeBron the unluckiest player in the NBA? An investigation14hZach KramNBA SCOREBOARD\\uf8ffüìÖ Complete NBA scoreboard‚¨Ü‚¨á Standings Top HeadlinesKelce plans to play in \\'25: \\'Can\\'t go out like that\\'Chiefs to franchise tag guard Smith, source saysPopovich visits Spurs, won\\'t return this seasonSource: Garrett not open to Browns extensionBucs to reinstate Jon Gruden into Ring of HonorBenintendi HBP, out 4-6 weeks with broken handEx-Twins ML catcher denies giving away pitchesGator vs. gator: Fearless Horschel shoos reptileNFL combine: Predicting who\\'ll dominateFavorites FantasyManage FavoritesFantasy HomeCustomize ESPNCreate AccountLog InICYMILuka stares down Mavs bench after a big 3Luka Doncic drops in a deep 3-pointer and immediately stares down the Mavericks bench. Best of ESPN+ESPN Illustration2025 NFL mock draft: Mel Kiper\\'s Round 1 pick predictionsIt\\'s combine week, and Mel Kiper Jr. is projecting landing spots in Round 1 for the 2025 draft class\\'s top prospects, including standout Travis Hunter.AP Photo/Kevin KolczynskiYour guide to 2025 men\\'s college basketball coaching carouselSeats are heating up with the first firing this week. Who could be next -- and next up? Here\\'s what we know.ESPNRanking MLB\\'s best at every position for 2025: Olney\\'s top 10sAs a new baseball season approaches, we compare the elite at every spot on the diamond.Photo by Scott Taetsch/Getty Images2025 NFL free agency: Best players available on offenseNFL free agency is almost here, and we placed every player on offense into tiers based on their potential offseason contracts. Trending NowAdam Pantozzi/NBAE via Getty ImagesWhy the Luka Donƒçiƒá trade could define a generation -- for the Mavericks, Lakers and the NBAThe trade that sent Luka Donƒçiƒá to the Lakers was a repudiation of one of the best players in the world. What happens next could change NBA history -- for everyone.Danielle Parhizkaran/The Boston Globe via Getty ImagesSpring training: How Red Sox built MLB\\'s best prospect trioKristian Campbell, Marcelo Mayer and Roman Anthony could soon be fixtures in Boston\\'s lineup -- and the test case for a groundbreaking approach at the plate.Illustration by ESPNDiana Taurasi tales: Untold stories about retired WNBA legend\"We got Diana\" ... and you don\\'t forget a legend like that. Here\\'s a look at Diana Taurasi from those who knew her best as the 42-year-old retires.John McCreary/NHLI via Getty ImagesOvechkin career goal record chase: Tracker, highlights, moreFollow along as the Capitals star chases down Wayne Gretzky\\'s record, including highlights of each goal and the upcoming schedule. Sign up to play the #1 Fantasy Baseball GameReactivate A LeagueCreate A LeagueJoin a Public LeaguePractice With a Mock DraftSign up for FREE!Reactivate A LeagueCreate A LeagueJoin a Public LeaguePractice With a Mock DraftESPN+ on Disney+Mike Windle/Getty Images for ESPNHow to watch ESPN+ on Disney+: Frequently asked questionsESPN+ is available on Disney+. Check out how to watch NHL, MLB, Pat McAfee, 30 for 30s and other exciting events now. Get a custom ESPN experienceEnjoy the benefits of a personalized accountSelect your favorite leagues, teams and players and get the latest scores, news and updates that matter most to you. \\n\\nESPN+\\n\\n\\n\\n\\nPGA TOUR LIVE\\n\\n\\n\\n\\n\\n\\n\\nNHL\\n\\n\\n\\n\\n\\n\\n\\nNCAA Men\\'s Basketball\\n\\n\\n\\n\\n\\n\\n\\nNCAA Women\\'s Basketball\\n\\n\\n\\n\\n\\n\\n\\nNCAA Softball\\n\\n\\nQuick Links\\n\\n\\n\\n\\nMen\\'s Tournament Challenge\\n\\n\\n\\n\\n\\n\\n\\nWomen\\'s Tournament Challenge\\n\\n\\n\\n\\n\\n\\n\\nNFL Draft\\n\\n\\n\\n\\n\\n\\n\\nUnrivaled 3-on-3\\n\\n\\n\\n\\n\\n\\n\\nMLB Free Agency\\n\\n\\n\\n\\n\\n\\n\\nMen\\'s Bracketology\\n\\n\\n\\n\\n\\n\\n\\nWomen\\'s Bracketology\\n\\n\\n\\n\\n\\n\\n\\nWhere To Watch\\n\\n\\n\\n\\n\\n\\n\\nToday\\'s Top Odds\\n\\n\\n\\n\\n\\n\\n\\nESPN Radio: Listen Live\\n\\n\\n\\n\\n\\n\\n\\nBuster Olney\\'s Top Players\\n\\n\\nFantasy\\n\\n\\n\\n\\nFootball\\n\\n\\n\\n\\n\\n\\n\\nBaseball\\n\\n\\n\\n\\n\\n\\n\\nHockey\\n\\n\\n\\n\\n\\n\\n\\nMen\\'s Basketball\\n\\n\\n\\n\\n\\n\\n\\nWomen\\'s Basketball\\n\\n\\nESPN Sites\\n\\n\\n\\n\\nESPN Deportes\\n\\n\\n\\n\\n\\n\\n\\nAndscape\\n\\n\\n\\n\\n\\n\\n\\nespnW\\n\\n\\n\\n\\n\\n\\n\\nESPNFC\\n\\n\\n\\n\\n\\n\\n\\nX Games\\n\\n\\n\\n\\n\\n\\n\\nSEC Network\\n\\n\\nESPN Apps\\n\\n\\n\\n\\nESPN\\n\\n\\n\\n\\n\\n\\n\\nESPN Fantasy\\n\\n\\n\\n\\n\\n\\n\\nTournament Challenge\\n\\n\\nFollow ESPN\\n\\n\\n\\n\\nFacebook\\n\\n\\n\\n\\n\\n\\n\\nX/Twitter\\n\\n\\n\\n\\n\\n\\n\\nInstagram\\n\\n\\n\\n\\n\\n\\n\\nSnapchat\\n\\n\\n\\n\\n\\n\\n\\nTikTok\\n\\n\\n\\n\\n\\n\\n\\nYouTube\\n\\n\\nTerms of UsePrivacy PolicyInterest-Based Ads¬© ESPN Enterprises, Inc. All rights reserved.\\n\\n\\n\\n\\n\\n\\n\\n\\n\\n\\n\\n\\n\\n\\n\\n\\n\\n')]"
      ]
     },
     "execution_count": 30,
     "metadata": {},
     "output_type": "execute_result"
    }
   ],
   "source": [
    "# 인터넷 정보 로드하기, WebBaseLoader\n",
    "import warnings \n",
    "warnings.filterwarnings(\"ignore\")\n",
    "\n",
    "from langchain.document_loaders import WebBaseLoader\n",
    "\n",
    "loader = WebBaseLoader(\"https://www.espn.com\")\n",
    "\n",
    "# ssl verification 에러 방지를 위한 코드\n",
    "loader.requests_kwargs = {'verify': False}\n",
    "\n",
    "data = loader.load()\n",
    "data"
   ]
  },
  {
   "cell_type": "markdown",
   "metadata": {},
   "source": [
    "웹 페이지의 텍스는 page_content로, URL, 제목 및 언어가 metadata인걸 확인할 수 있다.   \n",
    "그러나 아무 설정 없이는 페이지의 모든 텍스트를 불러오므로 불필요한 내용이 너무 많다.   \n",
    "따라서 bs_kwargs 라는 매개변수를 통해 HTML태그 중 텍스트를 추출할 태그를 지정해야 한다. "
   ]
  },
  {
   "cell_type": "markdown",
   "metadata": {},
   "source": [
    "[Headline만 가져오기]"
   ]
  },
  {
   "cell_type": "code",
   "execution_count": 32,
   "metadata": {},
   "outputs": [
    {
     "data": {
      "text/plain": [
       "[Document(metadata={'source': 'https://www.espn.com'}, page_content=\"Kelce plans to play in '25: 'Can't go out like that'Chiefs to franchise tag guard Smith, source saysPopovich visits Spurs, won't return this seasonSource: Garrett not open to Browns extensionBucs to reinstate Jon Gruden into Ring of HonorBenintendi HBP, out 4-6 weeks with broken handEx-Twins ML catcher denies giving away pitchesGator vs. gator: Fearless Horschel shoos reptileNFL combine: Predicting who'll dominate Top HeadlinesKelce plans to play in '25: 'Can't go out like that'Chiefs to franchise tag guard Smith, source saysPopovich visits Spurs, won't return this seasonSource: Garrett not open to Browns extensionBucs to reinstate Jon Gruden into Ring of HonorBenintendi HBP, out 4-6 weeks with broken handEx-Twins ML catcher denies giving away pitchesGator vs. gator: Fearless Horschel shoos reptileNFL combine: Predicting who'll dominate\")]"
      ]
     },
     "execution_count": 32,
     "metadata": {},
     "output_type": "execute_result"
    }
   ],
   "source": [
    "import bs4\n",
    "from langchain.document_loaders import WebBaseLoader\n",
    "\n",
    "loader = WebBaseLoader(\"https://www.espn.com\", \n",
    "                       bs_kwargs=dict(\n",
    "                           parse_only=bs4.SoupStrainer(\n",
    "                               class_=(\"headlineStack top-headlines\")\n",
    "                           )\n",
    "                       )\n",
    "                       )\n",
    "\n",
    "# ssl verification 에러 방지를 위한 코드\n",
    "loader.requests_kwargs = {'verify': False}\n",
    "data = loader.load()\n",
    "data"
   ]
  },
  {
   "cell_type": "code",
   "execution_count": 33,
   "metadata": {},
   "outputs": [
    {
     "data": {
      "text/plain": [
       "[Document(metadata={'source': 'https://www.espn.com', 'title': 'ESPN - Serving Sports Fans. Anytime. Anywhere.', 'description': 'Visit ESPN for live scores, highlights and sports news. Stream exclusive games on ESPN+ and play fantasy sports.', 'language': 'en'}, page_content='\\n\\n\\n\\n\\n\\n\\n\\n\\nESPN - Serving Sports Fans. Anytime. Anywhere.\\n\\n\\n\\n\\n\\n\\n\\n\\n\\n\\n\\n\\n\\n\\n\\n\\n\\n\\n\\n\\n\\n\\n\\n\\n\\n\\n\\n\\n\\n\\n\\n\\n\\n\\n\\n\\n\\n\\n\\n\\n\\n\\n\\n\\n\\n\\n\\n\\n\\n\\n\\n\\n\\n\\n\\n\\n\\n\\n\\n\\n\\n\\n\\n\\n\\n\\n\\n\\n\\n\\n\\n\\n\\n\\n\\n\\n\\n\\n\\n\\n\\n\\n\\n\\n\\n\\n\\n\\n\\n\\n\\n\\n        Skip to main content\\n    \\n\\n        Skip to navigation\\n    \\n\\n\\n\\n\\n\\n\\n\\n\\n\\n\\n\\n\\n\\n\\n\\n\\n\\n\\n\\n\\n\\n\\n\\n\\n\\n\\n\\n\\n\\n\\n\\n\\n\\n<\\n\\n>\\n\\n\\n\\n\\n\\n\\n\\n\\n\\nMenuESPN\\n\\n\\n\\n\\n\\nscores\\n\\n\\n\\nNFLNBANHLNCAAMNCAAWSoccerMLBMore SportsBoxingCFLNCAACricketF1GamingGolfHorseLLWSMMANASCARNLLNBA G LeagueNBA Summer LeagueNCAAFNWSLOlympicsPLLProfessional WrestlingRacingRN BBRN FBRugbySports BettingTennisWNBAX GamesUFLEditionsFantasyWatchESPN BETESPN+\\n\\n\\n\\n\\n\\n\\n\\n\\n\\n\\n\\n\\n\\n\\n\\n  \\n\\nSubscribe Now\\n\\n\\n\\n\\n\\nPGA TOUR LIVE\\n\\n\\n\\n\\n\\n\\n\\nNHL\\n\\n\\n\\n\\n\\n\\n\\nNCAA Men\\'s Basketball\\n\\n\\n\\n\\n\\n\\n\\nNCAA Women\\'s Basketball\\n\\n\\n\\n\\n\\n\\n\\nNCAA Baseball\\n\\n\\n\\n\\n\\n\\n\\nNCAA Softball\\n\\n\\nQuick Links\\n\\n\\n\\n\\nMen\\'s Tournament Challenge\\n\\n\\n\\n\\n\\n\\n\\nWomen\\'s Tournament Challenge\\n\\n\\n\\n\\n\\n\\n\\nNFL Draft\\n\\n\\n\\n\\n\\n\\n\\nUnrivaled 3-on-3\\n\\n\\n\\n\\n\\n\\n\\nMLB Free Agency\\n\\n\\n\\n\\n\\n\\n\\nMen\\'s Bracketology\\n\\n\\n\\n\\n\\n\\n\\nWomen\\'s Bracketology\\n\\n\\n\\n\\n\\n\\n\\nWhere To Watch\\n\\n\\n\\n\\n\\n\\n\\nToday\\'s Top Odds\\n\\n\\n\\n\\n\\n\\n\\nESPN Radio: Listen Live\\n\\n\\n\\n\\n\\n\\n\\nBuster Olney\\'s Top Players\\n\\n\\n\\n\\n\\n\\nFavorites\\n\\n\\n\\n\\n\\n\\n      Manage Favorites\\n      \\n\\n\\n\\nCustomize ESPNCreate AccountLog InFantasy\\n\\n\\n\\n\\nFootball\\n\\n\\n\\n\\n\\n\\n\\nBaseball\\n\\n\\n\\n\\n\\n\\n\\nHockey\\n\\n\\n\\n\\n\\n\\n\\nMen\\'s Basketball\\n\\n\\n\\n\\n\\n\\n\\nWomen\\'s Basketball\\n\\n\\nESPN Sites\\n\\n\\n\\n\\nESPN Deportes\\n\\n\\n\\n\\n\\n\\n\\nAndscape\\n\\n\\n\\n\\n\\n\\n\\nespnW\\n\\n\\n\\n\\n\\n\\n\\nESPNFC\\n\\n\\n\\n\\n\\n\\n\\nX Games\\n\\n\\n\\n\\n\\n\\n\\nSEC Network\\n\\n\\nESPN Apps\\n\\n\\n\\n\\nESPN\\n\\n\\n\\n\\n\\n\\n\\nESPN Fantasy\\n\\n\\n\\n\\n\\n\\n\\nTournament Challenge\\n\\n\\nFollow ESPN\\n\\n\\n\\n\\nFacebook\\n\\n\\n\\n\\n\\n\\n\\nX/Twitter\\n\\n\\n\\n\\n\\n\\n\\nInstagram\\n\\n\\n\\n\\n\\n\\n\\nSnapchat\\n\\n\\n\\n\\n\\n\\n\\nTikTok\\n\\n\\n\\n\\n\\n\\n\\nYouTube\\n\\n\\nJadyn Donovan delivers incredible block for Duke in victory over UNC1h0:16\\n\\n\\n\\nAshlon Jackson\\'s deep triple beats third-quarter buzzer9m0:19\\n\\n\\nReigan Richardson sinks a triple for Duke36m0:20\\n\\n\\nToby Fournier delivers spin-move layup for Duke1h0:17\\n\\n\\nGrace Townsend finds Maria Gakdeng for UNC bucket2h0:19\\n\\n\\n\\nTOP HEADLINESKelce plans to play in \\'25: \\'Can\\'t go out like that\\'Chiefs to franchise tag guard Smith, source saysPopovich visits Spurs, won\\'t return this seasonSource: Garrett not open to Browns extensionBucs to reinstate Jon Gruden into Ring of HonorBenintendi HBP, out 4-6 weeks with broken handEx-Twins ML catcher denies giving away pitchesGator vs. gator: Fearless Horschel shoos reptileNFL combine: Predicting who\\'ll dominateWHICH TEAMS ARE FINDING FORM?Women\\'s Power Rankings: Texas takes over the No. 1 spot, Notre Dame drops downAfter falling to NC State, Notre Dame drops down in the rankings as Texas rises to No. 1.2dMichael VoepelAP Photo/Erik RankBracketology: Will Notre Dame remain a No. 1 seed?Conference play is in full swing, and the sprint to March is on.3dCharlie CremeUSC replaces S. Carolina as No. 1 seed in revealWomen\\'s Champ Week: Tournament schedules and moreWOMEN\\'S COLLEGE HOOPS SCORES\\uf8ffüìÖ Complete women\\'s scoreboard‚¨Ü‚¨á Conference standingsMARCH ON OUR MINDSPredicting the 8 men‚Äôs basketball teams that could win it all -- by eliminating 356Our experts identified eight teams with the best chances to win it all through a process of elimination.12hJeff Borzello and Myron MedcalfAP Photo/Karen WarrenBubble wins don\\'t get much bigger than the one Arkansas pulled offAs Selection Sunday nears, let\\'s track which teams can play their way in or out of the NCAA tournament.5hNeil Paine‚û° Power Rankings: 1-seed race shakes up our top 25\\uf8ffüèÄ Bracketology: Don\\'t bet against Tom IzzoMen\\'s Champ Week: Tournament schedules and moreMEN\\'S COLLEGE HOOPS SCORES\\uf8ffüìÖ Complete men\\'s scoreboard‚¨Ü‚¨á Conference standingsTHROWDOWN THURSDAYNorth Texas\\' Brenen Lorient flushes windmill jam vs. former team23m0:32Is LeBron the unluckiest player in the NBA? An investigation14hZach KramNBA SCOREBOARD\\uf8ffüìÖ Complete NBA scoreboard‚¨Ü‚¨á Standings Top HeadlinesKelce plans to play in \\'25: \\'Can\\'t go out like that\\'Chiefs to franchise tag guard Smith, source saysPopovich visits Spurs, won\\'t return this seasonSource: Garrett not open to Browns extensionBucs to reinstate Jon Gruden into Ring of HonorBenintendi HBP, out 4-6 weeks with broken handEx-Twins ML catcher denies giving away pitchesGator vs. gator: Fearless Horschel shoos reptileNFL combine: Predicting who\\'ll dominateFavorites FantasyManage FavoritesFantasy HomeCustomize ESPNCreate AccountLog InICYMI0:23Luka stares down Mavs bench after a big 3Luka Doncic drops in a deep 3-pointer and immediately stares down the Mavericks bench. Best of ESPN+ESPN Illustration2025 NFL mock draft: Mel Kiper\\'s Round 1 pick predictionsIt\\'s combine week, and Mel Kiper Jr. is projecting landing spots in Round 1 for the 2025 draft class\\'s top prospects, including standout Travis Hunter.AP Photo/Kevin KolczynskiYour guide to 2025 men\\'s college basketball coaching carouselSeats are heating up with the first firing this week. Who could be next -- and next up? Here\\'s what we know.ESPNRanking MLB\\'s best at every position for 2025: Olney\\'s top 10sAs a new baseball season approaches, we compare the elite at every spot on the diamond.Photo by Scott Taetsch/Getty Images2025 NFL free agency: Best players available on offenseNFL free agency is almost here, and we placed every player on offense into tiers based on their potential offseason contracts. Trending NowAdam Pantozzi/NBAE via Getty ImagesWhy the Luka Donƒçiƒá trade could define a generation -- for the Mavericks, Lakers and the NBAThe trade that sent Luka Donƒçiƒá to the Lakers was a repudiation of one of the best players in the world. What happens next could change NBA history -- for everyone.Danielle Parhizkaran/The Boston Globe via Getty ImagesSpring training: How Red Sox built MLB\\'s best prospect trioKristian Campbell, Marcelo Mayer and Roman Anthony could soon be fixtures in Boston\\'s lineup -- and the test case for a groundbreaking approach at the plate.Illustration by ESPNDiana Taurasi tales: Untold stories about retired WNBA legend\"We got Diana\" ... and you don\\'t forget a legend like that. Here\\'s a look at Diana Taurasi from those who knew her best as the 42-year-old retires.John McCreary/NHLI via Getty ImagesOvechkin career goal record chase: Tracker, highlights, moreFollow along as the Capitals star chases down Wayne Gretzky\\'s record, including highlights of each goal and the upcoming schedule. Sign up to play the #1 Fantasy Baseball GameReactivate A LeagueCreate A LeagueJoin a Public LeaguePractice With a Mock DraftSign up for FREE!Reactivate A LeagueCreate A LeagueJoin a Public LeaguePractice With a Mock DraftESPN+ on Disney+Mike Windle/Getty Images for ESPNHow to watch ESPN+ on Disney+: Frequently asked questionsESPN+ is available on Disney+. Check out how to watch NHL, MLB, Pat McAfee, 30 for 30s and other exciting events now. Get a custom ESPN experienceEnjoy the benefits of a personalized accountSelect your favorite leagues, teams and players and get the latest scores, news and updates that matter most to you. \\n\\nESPN+\\n\\n\\n\\n\\nPGA TOUR LIVE\\n\\n\\n\\n\\n\\n\\n\\nNHL\\n\\n\\n\\n\\n\\n\\n\\nNCAA Men\\'s Basketball\\n\\n\\n\\n\\n\\n\\n\\nNCAA Women\\'s Basketball\\n\\n\\n\\n\\n\\n\\n\\nNCAA Softball\\n\\n\\nQuick Links\\n\\n\\n\\n\\nMen\\'s Tournament Challenge\\n\\n\\n\\n\\n\\n\\n\\nWomen\\'s Tournament Challenge\\n\\n\\n\\n\\n\\n\\n\\nNFL Draft\\n\\n\\n\\n\\n\\n\\n\\nUnrivaled 3-on-3\\n\\n\\n\\n\\n\\n\\n\\nMLB Free Agency\\n\\n\\n\\n\\n\\n\\n\\nMen\\'s Bracketology\\n\\n\\n\\n\\n\\n\\n\\nWomen\\'s Bracketology\\n\\n\\n\\n\\n\\n\\n\\nWhere To Watch\\n\\n\\n\\n\\n\\n\\n\\nToday\\'s Top Odds\\n\\n\\n\\n\\n\\n\\n\\nESPN Radio: Listen Live\\n\\n\\n\\n\\n\\n\\n\\nBuster Olney\\'s Top Players\\n\\n\\nFantasy\\n\\n\\n\\n\\nFootball\\n\\n\\n\\n\\n\\n\\n\\nBaseball\\n\\n\\n\\n\\n\\n\\n\\nHockey\\n\\n\\n\\n\\n\\n\\n\\nMen\\'s Basketball\\n\\n\\n\\n\\n\\n\\n\\nWomen\\'s Basketball\\n\\n\\nESPN Sites\\n\\n\\n\\n\\nESPN Deportes\\n\\n\\n\\n\\n\\n\\n\\nAndscape\\n\\n\\n\\n\\n\\n\\n\\nespnW\\n\\n\\n\\n\\n\\n\\n\\nESPNFC\\n\\n\\n\\n\\n\\n\\n\\nX Games\\n\\n\\n\\n\\n\\n\\n\\nSEC Network\\n\\n\\nESPN Apps\\n\\n\\n\\n\\nESPN\\n\\n\\n\\n\\n\\n\\n\\nESPN Fantasy\\n\\n\\n\\n\\n\\n\\n\\nTournament Challenge\\n\\n\\nFollow ESPN\\n\\n\\n\\n\\nFacebook\\n\\n\\n\\n\\n\\n\\n\\nX/Twitter\\n\\n\\n\\n\\n\\n\\n\\nInstagram\\n\\n\\n\\n\\n\\n\\n\\nSnapchat\\n\\n\\n\\n\\n\\n\\n\\nTikTok\\n\\n\\n\\n\\n\\n\\n\\nYouTube\\n\\n\\nTerms of UsePrivacy PolicyInterest-Based Ads¬© ESPN Enterprises, Inc. All rights reserved.\\n\\n\\n\\n\\n\\n\\n\\n\\n\\n\\n\\n\\n\\n\\n\\n\\n\\n'),\n",
       " Document(metadata={'source': 'https://www.google.com', 'title': 'Google', 'language': 'ko'}, page_content='Google검색 이미지 지도 Play YouTube 뉴스 Gmail 드라이브 더보기 »웹 기록 | 설정 | 로그인\\xa0고급검색Google 지원 언어:  English 광고비즈니스 솔루션Google 정보Google.co.kr© 2025 - 개인정보처리방침 - 약관   ')]"
      ]
     },
     "execution_count": 33,
     "metadata": {},
     "output_type": "execute_result"
    }
   ],
   "source": [
    "# 여러개의 웹페이지에서 텍스트 동시 추출\n",
    "\n",
    "from langchain.document_loaders import WebBaseLoader\n",
    "\n",
    "loader = WebBaseLoader([\"https://www.espn.com\", \"https://www.google.com\"])\n",
    "docs = loader.load()\n",
    "docs"
   ]
  },
  {
   "cell_type": "code",
   "execution_count": 45,
   "metadata": {},
   "outputs": [
    {
     "data": {
      "text/plain": [
       "['data\\\\BOK 이슈노트 제2022-38호 인공지능 언어모형을 이용한 인플레이션 어조지수 개발 및 시사점.pdf',\n",
       " 'data\\\\BOK 이슈노트 제2022-38호 인공지능 언어모형을 이용한 인플레이션 어조지수 개발 및 시사점.pdf',\n",
       " 'data\\\\BOK 이슈노트 제2022-38호 인공지능 언어모형을 이용한 인플레이션 어조지수 개발 및 시사점.pdf',\n",
       " 'data\\\\BOK 이슈노트 제2022-38호 인공지능 언어모형을 이용한 인플레이션 어조지수 개발 및 시사점.pdf',\n",
       " 'data\\\\BOK 이슈노트 제2022-38호 인공지능 언어모형을 이용한 인플레이션 어조지수 개발 및 시사점.pdf',\n",
       " 'data\\\\BOK 이슈노트 제2022-38호 인공지능 언어모형을 이용한 인플레이션 어조지수 개발 및 시사점.pdf',\n",
       " 'data\\\\BOK 이슈노트 제2022-38호 인공지능 언어모형을 이용한 인플레이션 어조지수 개발 및 시사점.pdf',\n",
       " 'data\\\\BOK 이슈노트 제2022-38호 인공지능 언어모형을 이용한 인플레이션 어조지수 개발 및 시사점.pdf',\n",
       " 'data\\\\BOK 이슈노트 제2022-38호 인공지능 언어모형을 이용한 인플레이션 어조지수 개발 및 시사점.pdf',\n",
       " 'data\\\\BOK 이슈노트 제2022-38호 인공지능 언어모형을 이용한 인플레이션 어조지수 개발 및 시사점.pdf',\n",
       " 'data\\\\BOK 이슈노트 제2022-38호 인공지능 언어모형을 이용한 인플레이션 어조지수 개발 및 시사점.pdf',\n",
       " 'data\\\\BOK 이슈노트 제2022-38호 인공지능 언어모형을 이용한 인플레이션 어조지수 개발 및 시사점.pdf',\n",
       " 'data\\\\BOK 이슈노트 제2022-38호 인공지능 언어모형을 이용한 인플레이션 어조지수 개발 및 시사점.pdf',\n",
       " 'data\\\\BOK 이슈노트 제2022-38호 인공지능 언어모형을 이용한 인플레이션 어조지수 개발 및 시사점.pdf',\n",
       " 'data\\\\BOK 이슈노트 제2022-38호 인공지능 언어모형을 이용한 인플레이션 어조지수 개발 및 시사점.pdf',\n",
       " 'data\\\\BOK 이슈노트 제2022-38호 인공지능 언어모형을 이용한 인플레이션 어조지수 개발 및 시사점.pdf',\n",
       " 'data\\\\BOK 이슈노트 제2022-38호 인공지능 언어모형을 이용한 인플레이션 어조지수 개발 및 시사점.pdf',\n",
       " 'data\\\\Transformer_paper.pdf',\n",
       " 'data\\\\Transformer_paper.pdf',\n",
       " 'data\\\\Transformer_paper.pdf',\n",
       " 'data\\\\Transformer_paper.pdf',\n",
       " 'data\\\\Transformer_paper.pdf',\n",
       " 'data\\\\Transformer_paper.pdf',\n",
       " 'data\\\\Transformer_paper.pdf',\n",
       " 'data\\\\Transformer_paper.pdf',\n",
       " 'data\\\\Transformer_paper.pdf',\n",
       " 'data\\\\Transformer_paper.pdf',\n",
       " 'data\\\\Transformer_paper.pdf',\n",
       " 'data\\\\Transformer_paper.pdf',\n",
       " 'data\\\\Transformer_paper.pdf',\n",
       " 'data\\\\Transformer_paper.pdf',\n",
       " 'data\\\\Transformer_paper.pdf',\n",
       " 'data\\\\[이슈리포트 2022-2호] 혁신성장 정책금융 동향.pdf',\n",
       " 'data\\\\[이슈리포트 2022-2호] 혁신성장 정책금융 동향.pdf',\n",
       " 'data\\\\[이슈리포트 2022-2호] 혁신성장 정책금융 동향.pdf',\n",
       " 'data\\\\[이슈리포트 2022-2호] 혁신성장 정책금융 동향.pdf',\n",
       " 'data\\\\[이슈리포트 2022-2호] 혁신성장 정책금융 동향.pdf',\n",
       " 'data\\\\[이슈리포트 2022-2호] 혁신성장 정책금융 동향.pdf',\n",
       " 'data\\\\[이슈리포트 2022-2호] 혁신성장 정책금융 동향.pdf',\n",
       " 'data\\\\[이슈리포트 2022-2호] 혁신성장 정책금융 동향.pdf',\n",
       " 'data\\\\[이슈리포트 2022-2호] 혁신성장 정책금융 동향.pdf',\n",
       " 'data\\\\[이슈리포트 2022-2호] 혁신성장 정책금융 동향.pdf',\n",
       " 'data\\\\[이슈리포트 2022-2호] 혁신성장 정책금융 동향.pdf',\n",
       " 'data\\\\[이슈리포트 2022-2호] 혁신성장 정책금융 동향.pdf',\n",
       " 'data\\\\[이슈리포트 2022-2호] 혁신성장 정책금융 동향.pdf',\n",
       " 'data\\\\[이슈리포트 2022-2호] 혁신성장 정책금융 동향.pdf',\n",
       " 'data\\\\[이슈리포트 2022-2호] 혁신성장 정책금융 동향.pdf',\n",
       " 'data\\\\[이슈리포트 2022-2호] 혁신성장 정책금융 동향.pdf',\n",
       " 'data\\\\[이슈리포트 2022-2호] 혁신성장 정책금융 동향.pdf',\n",
       " 'data\\\\[이슈리포트 2022-2호] 혁신성장 정책금융 동향.pdf',\n",
       " 'data\\\\★육아휴직제도 사용안내서_배포.pdf',\n",
       " 'data\\\\★육아휴직제도 사용안내서_배포.pdf',\n",
       " 'data\\\\★육아휴직제도 사용안내서_배포.pdf',\n",
       " 'data\\\\★육아휴직제도 사용안내서_배포.pdf',\n",
       " 'data\\\\★육아휴직제도 사용안내서_배포.pdf',\n",
       " 'data\\\\★육아휴직제도 사용안내서_배포.pdf',\n",
       " 'data\\\\★육아휴직제도 사용안내서_배포.pdf',\n",
       " 'data\\\\★육아휴직제도 사용안내서_배포.pdf',\n",
       " 'data\\\\★육아휴직제도 사용안내서_배포.pdf',\n",
       " 'data\\\\★육아휴직제도 사용안내서_배포.pdf',\n",
       " 'data\\\\★육아휴직제도 사용안내서_배포.pdf',\n",
       " 'data\\\\★육아휴직제도 사용안내서_배포.pdf',\n",
       " 'data\\\\대한민국헌법(헌법)(제00010호)(19880225).pdf',\n",
       " 'data\\\\대한민국헌법(헌법)(제00010호)(19880225).pdf',\n",
       " 'data\\\\대한민국헌법(헌법)(제00010호)(19880225).pdf',\n",
       " 'data\\\\대한민국헌법(헌법)(제00010호)(19880225).pdf',\n",
       " 'data\\\\대한민국헌법(헌법)(제00010호)(19880225).pdf',\n",
       " 'data\\\\대한민국헌법(헌법)(제00010호)(19880225).pdf',\n",
       " 'data\\\\대한민국헌법(헌법)(제00010호)(19880225).pdf',\n",
       " 'data\\\\대한민국헌법(헌법)(제00010호)(19880225).pdf',\n",
       " 'data\\\\대한민국헌법(헌법)(제00010호)(19880225).pdf',\n",
       " 'data\\\\대한민국헌법(헌법)(제00010호)(19880225).pdf',\n",
       " 'data\\\\대한민국헌법(헌법)(제00010호)(19880225).pdf',\n",
       " 'data\\\\대한민국헌법(헌법)(제00010호)(19880225).pdf',\n",
       " 'data\\\\대한민국헌법(헌법)(제00010호)(19880225).pdf',\n",
       " 'data\\\\대한민국헌법(헌법)(제00010호)(19880225).pdf']"
      ]
     },
     "execution_count": 45,
     "metadata": {},
     "output_type": "execute_result"
    }
   ],
   "source": [
    "# 특정 경로 내의 모든 파일 불러오기, DirectoryLoader\n",
    "# 파일 하나하나 경로를 입력할 필요 없음\n",
    "# 특정 경로 내 모든 PDF 파일을 불러오기 \n",
    "\n",
    "from langchain.document_loaders import DirectoryLoader, PyPDFLoader\n",
    "\n",
    "loader = DirectoryLoader(\"./data/\", glob=\"*.pdf\", loader_cls=PyPDFLoader)\n",
    "docs = loader.load()\n",
    "[i.metadata['source'] for i in docs]"
   ]
  },
  {
   "cell_type": "code",
   "execution_count": null,
   "metadata": {},
   "outputs": [],
   "source": []
  }
 ],
 "metadata": {
  "kernelspec": {
   "display_name": "Python 3",
   "language": "python",
   "name": "python3"
  },
  "language_info": {
   "codemirror_mode": {
    "name": "ipython",
    "version": 3
   },
   "file_extension": ".py",
   "mimetype": "text/x-python",
   "name": "python",
   "nbconvert_exporter": "python",
   "pygments_lexer": "ipython3",
   "version": "3.11.5"
  }
 },
 "nbformat": 4,
 "nbformat_minor": 2
}
